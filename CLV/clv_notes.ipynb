{
 "cells": [
  {
   "cell_type": "markdown",
   "metadata": {},
   "source": [
    "# Background"
   ]
  },
  {
   "cell_type": "markdown",
   "metadata": {},
   "source": [
    "## What is CLV?"
   ]
  },
  {
   "cell_type": "markdown",
   "metadata": {},
   "source": [
    "Customer Lifetime Value (CLV) is a critical metric in business analytics that predicts the total revenue a business can expect from a single customer account throughout their relationship. It's essential because:\n",
    "\n",
    "1. It helps businesses understand the long-term value of their customer relationships.\n",
    "2. It guides resource allocation for customer acquisition and retention strategies.\n",
    "3. It allows for more accurate forecasting of future revenue streams.\n",
    "4. It helps identify high-value customers for targeted marketing efforts."
   ]
  },
  {
   "cell_type": "code",
   "execution_count": null,
   "metadata": {},
   "outputs": [],
   "source": []
  }
 ],
 "metadata": {
  "kernelspec": {
   "display_name": "base",
   "language": "python",
   "name": "python3"
  },
  "language_info": {
   "name": "python",
   "version": "3.12.4"
  }
 },
 "nbformat": 4,
 "nbformat_minor": 2
}
