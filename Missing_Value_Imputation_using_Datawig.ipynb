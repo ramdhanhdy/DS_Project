{
  "nbformat": 4,
  "nbformat_minor": 0,
  "metadata": {
    "colab": {
      "name": "Missing Value Imputation using Datawig.ipynb",
      "provenance": [],
      "collapsed_sections": [],
      "authorship_tag": "ABX9TyM5e6fj43DVgKlD5owHh1iz",
      "include_colab_link": true
    },
    "kernelspec": {
      "name": "python3",
      "display_name": "Python 3"
    },
    "accelerator": "GPU"
  },
  "cells": [
    {
      "cell_type": "markdown",
      "metadata": {
        "id": "view-in-github",
        "colab_type": "text"
      },
      "source": [
        "<a href=\"https://colab.research.google.com/github/ramdhanhdy/Ramdhan_Portfolio/blob/main/Missing_Value_Imputation_using_Datawig.ipynb\" target=\"_parent\"><img src=\"https://colab.research.google.com/assets/colab-badge.svg\" alt=\"Open In Colab\"/></a>"
      ]
    },
    {
      "cell_type": "markdown",
      "metadata": {
        "id": "io-y1_wlORuw"
      },
      "source": [
        "## About DataWig:\r\n",
        "\r\n",
        "From Amazon's official documentation\r\n",
        "> DataWig learns Machine Learning models to impute missing values in tables"
      ]
    },
    {
      "cell_type": "code",
      "metadata": {
        "id": "Kq5ddd5e16BQ"
      },
      "source": [
        "#Install datawig to path\r\n",
        "!pip3 install --target=$nb_path datawig"
      ],
      "execution_count": null,
      "outputs": []
    },
    {
      "cell_type": "markdown",
      "metadata": {
        "id": "6_fVfyX_PlDo"
      },
      "source": [
        "## Dunning DataWig\r\n",
        "\r\n",
        "The DataWig API expect pandas DataFrame as its input\r\n",
        "\r\n",
        "Amazon's official tutorial suggest trying the `simpleimputer` as a starting point to get familiar with DataWig. One of the function belong to `simpleimputer` class is `SimpleImputer.complete`, which fits an imputation model for each column of the input DataFrame having missing values.\r\n",
        "\r\n",
        "The code below is an example of how `SimpleImputer.complete` works in practice"
      ]
    },
    {
      "cell_type": "code",
      "metadata": {
        "colab": {
          "base_uri": "https://localhost:8080/"
        },
        "id": "VkLTmrt8PfxA",
        "outputId": "adaef85c-0aac-4f87-8667-6b13f940e4a5"
      },
      "source": [
        "import datawig, numpy\r\n",
        "\r\n",
        "# generate synthetic data with simple nonlinear dependency\r\n",
        "df = datawig.utils.generate_df_numeric()\r\n",
        "\r\n",
        "# hide 10% of the values \r\n",
        "df_with_missing = df.mask(numpy.random.rand(*df.shape) > .9)\r\n",
        "\r\n",
        "# impute missing values\r\n",
        "df_with_missing_imputed = datawig.SimpleImputer.complete(df_with_missing)"
      ],
      "execution_count": 1,
      "outputs": [
        {
          "output_type": "stream",
          "text": [
            "2021-03-14 10:28:28,337 [INFO]  NumExpr defaulting to 2 threads.\n"
          ],
          "name": "stderr"
        }
      ]
    },
    {
      "cell_type": "markdown",
      "metadata": {
        "id": "HoZ4hQy9TIVG"
      },
      "source": [
        "The `NumExpr defaulting to 2 threads` message arises from `datawig.utils` execution. It basically sets the number of threads to the number of CPU cores currently being used."
      ]
    },
    {
      "cell_type": "markdown",
      "metadata": {
        "id": "wsFjHYBEUmdI"
      },
      "source": [
        "### Imputing numerical columns"
      ]
    },
    {
      "cell_type": "code",
      "metadata": {
        "id": "_AS6DCkaYtRj"
      },
      "source": [
        "# generate synthetic data with simple nonlinear dependency\r\n",
        "df = datawig.utils.generate_df_numeric( num_samples=200,\r\n",
        "                                        data_column_name='x',\r\n",
        "                                       label_column_name='y')\r\n",
        "# split into train and test data\r\n",
        "df_train, df_test = datawig.utils.random_split(df)"
      ],
      "execution_count": 10,
      "outputs": []
    },
    {
      "cell_type": "code",
      "metadata": {
        "id": "Tx-14jDDaQXi"
      },
      "source": [
        "#Initialize a SimpleImputer model\r\n",
        "imputer = datawig.SimpleImputer(\r\n",
        "        input_columns = ['x'], #column(s) containing information about the column we want to impute\r\n",
        "        output_column = 'y', # the column we'd like to impute values for\r\n",
        "        output_path = 'imputer_model' #stores model data and metrics\r\n",
        "      )\r\n",
        "\r\n",
        "#Fit an imputer model on the train data\r\n",
        "imputer.fit(train_df = df_train, num_epochs=50)\r\n",
        "\r\n",
        "#Impute missing values and return original dataframe with predictions\r\n",
        "imputed = imputer.predict(df_test)"
      ],
      "execution_count": 13,
      "outputs": []
    },
    {
      "cell_type": "markdown",
      "metadata": {
        "id": "ht9xD6ySXERs"
      },
      "source": [
        "### Imputing categorical columns"
      ]
    },
    {
      "cell_type": "code",
      "metadata": {
        "id": "G6dtP2ReRlaZ"
      },
      "source": [
        "df = datawig.utils.generate_df_string(num_samples=200, \r\n",
        "                                      data_column_name='sentences',\r\n",
        "                                      label_column_name='label')\r\n",
        "\r\n",
        "df_train, df_test = datawig.utils.random_split(df)"
      ],
      "execution_count": 2,
      "outputs": []
    },
    {
      "cell_type": "code",
      "metadata": {
        "colab": {
          "base_uri": "https://localhost:8080/"
        },
        "id": "YMwf3RqGWRCB",
        "outputId": "d757a254-c567-400c-adeb-e72a99bce24d"
      },
      "source": [
        "df.head"
      ],
      "execution_count": 8,
      "outputs": [
        {
          "output_type": "execute_result",
          "data": {
            "text/plain": [
              "<bound method NDFrame.head of                                sentences  label\n",
              "0    lThEn qJu8x iWgNZ PtwBl lThEn UuT3e  iWgNZ\n",
              "1    6nGis sCfMZ yuKps rhTox JMWa4 n9JEC  6nGis\n",
              "2    z3SKA JsThJ iWgNZ 1qeoe w5UE1 Soc0K  iWgNZ\n",
              "3    RebhO FQPS6 3HqdZ IripW 6nGis 2V9SM  6nGis\n",
              "4    2V9SM 56KkS PfaMm O67IM YQOaN 6nGis  6nGis\n",
              "..                                   ...    ...\n",
              "195  j7c1f 1qeoe qJu8x iWgNZ q6ITZ U1zT0  iWgNZ\n",
              "196  mM1Kh RK3Ac 6nGis n9JEC VfvVc 7zOfb  6nGis\n",
              "197  saijr mM1Kh w5UE1 6nGis Wa0RH JsThJ  6nGis\n",
              "198  9ZMJL 7zOfb 9ZMJL iWgNZ Rn9Xd DdZ04  iWgNZ\n",
              "199  6J6af yuKps iWgNZ tyVA1 JsThJ RebhO  iWgNZ\n",
              "\n",
              "[200 rows x 2 columns]>"
            ]
          },
          "metadata": {
            "tags": []
          },
          "execution_count": 8
        }
      ]
    },
    {
      "cell_type": "code",
      "metadata": {
        "colab": {
          "base_uri": "https://localhost:8080/"
        },
        "id": "-zSNPF97V1cW",
        "outputId": "a4f2148b-4683-4fa0-f961-20bcb8bce511"
      },
      "source": [
        "list(df.columns.values)"
      ],
      "execution_count": 7,
      "outputs": [
        {
          "output_type": "execute_result",
          "data": {
            "text/plain": [
              "['sentences', 'label']"
            ]
          },
          "metadata": {
            "tags": []
          },
          "execution_count": 7
        }
      ]
    },
    {
      "cell_type": "code",
      "metadata": {
        "id": "JSDS_RKbVy3C"
      },
      "source": [
        "#Initialize a SimpleImputer model\r\n",
        "imputer = datawig.SimpleImputer(\r\n",
        "    input_columns=['sentences'],\r\n",
        "    output_column='label',\r\n",
        "    output_path = 'imputer_model',\r\n",
        "  ) \r\n",
        "\r\n",
        "# Fit an imputer model on the train data\r\n",
        "imputer.fit(train_df = df_train)\r\n",
        "\r\n",
        "#Impute missing values and return original dataframe with predictions\r\n",
        "imputed = imputer.predict(df_test)"
      ],
      "execution_count": 9,
      "outputs": []
    },
    {
      "cell_type": "markdown",
      "metadata": {
        "id": "0Vfo0OuAb8pu"
      },
      "source": [
        "## Applying DataWig on Real Dataset"
      ]
    },
    {
      "cell_type": "code",
      "metadata": {
        "id": "dzm1W-sXW4lv"
      },
      "source": [
        ""
      ],
      "execution_count": null,
      "outputs": []
    }
  ]
}