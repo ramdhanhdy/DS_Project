{
  "nbformat": 4,
  "nbformat_minor": 0,
  "metadata": {
    "colab": {
      "name": "recommender system e-commerce.ipynb",
      "provenance": [],
      "collapsed_sections": [],
      "toc_visible": true,
      "authorship_tag": "ABX9TyM3OWxjF9dOZ4WAK+qvtQtZ",
      "include_colab_link": true
    },
    "kernelspec": {
      "name": "python3",
      "display_name": "Python 3"
    },
    "accelerator": "GPU"
  },
  "cells": [
    {
      "cell_type": "markdown",
      "metadata": {
        "id": "view-in-github",
        "colab_type": "text"
      },
      "source": [
        "<a href=\"https://colab.research.google.com/github/ramdhanhdy/Ramdhan_Portfolio/blob/main/recommender_system_e_commerce.ipynb\" target=\"_parent\"><img src=\"https://colab.research.google.com/assets/colab-badge.svg\" alt=\"Open In Colab\"/></a>"
      ]
    },
    {
      "cell_type": "markdown",
      "metadata": {
        "id": "w3vroqXGYDMl"
      },
      "source": [
        "## Install Dependencies"
      ]
    },
    {
      "cell_type": "markdown",
      "metadata": {
        "id": "24QKZMnJs_eM"
      },
      "source": [
        "### Dependencies\n",
        "\n",
        "1. pandas\n",
        "2. numpy\n",
        "3. cudf\n",
        "4. isotree\n",
        "5. datawig\n",
        "6. matplotlib"
      ]
    },
    {
      "cell_type": "code",
      "metadata": {
        "id": "zyRb22JS3zRX"
      },
      "source": [
        "# Install RAPIDS\n",
        "!git clone https://github.com/rapidsai/rapidsai-csp-utils.git\n",
        "!bash rapidsai-csp-utils/colab/rapids-colab.sh 0.18\n",
        "\n",
        "import sys, os\n",
        "\n",
        "dist_package_index = sys.path.index('/usr/local/lib/python3.7/dist-packages')\n",
        "sys.path = sys.path[:dist_package_index] + ['/usr/local/lib/python3.7/site-packages'] + sys.path[dist_package_index:]\n",
        "sys.path\n",
        "exec(open('rapidsai-csp-utils/colab/update_modules.py').read(), globals())\n"
      ],
      "execution_count": null,
      "outputs": []
    },
    {
      "cell_type": "code",
      "metadata": {
        "colab": {
          "base_uri": "https://localhost:8080/",
          "height": 35
        },
        "id": "izQ0MUecuc1h",
        "outputId": "200e21c8-05cc-41dc-aec5-72100d5fddc2"
      },
      "source": [
        "#check if tensorflow or pytorch can use gpu\n",
        "\n",
        "#import torch\n",
        "#torch.cuda.is_available()\n",
        "\n",
        "#import tensorflow as tf\n",
        "#tf.test.gpu_device_name()"
      ],
      "execution_count": null,
      "outputs": [
        {
          "output_type": "execute_result",
          "data": {
            "application/vnd.google.colaboratory.intrinsic+json": {
              "type": "string"
            },
            "text/plain": [
              "'/device:GPU:0'"
            ]
          },
          "metadata": {
            "tags": []
          },
          "execution_count": 27
        }
      ]
    },
    {
      "cell_type": "code",
      "metadata": {
        "id": "Kq5ddd5e16BQ"
      },
      "source": [
        "#Install on sys path\n",
        "!pip install --target=$nb_path datawig"
      ],
      "execution_count": null,
      "outputs": []
    },
    {
      "cell_type": "code",
      "metadata": {
        "colab": {
          "base_uri": "https://localhost:8080/"
        },
        "id": "hfFJBqDX1li0",
        "outputId": "889c185b-2239-4449-ac85-cb6f86760bd8"
      },
      "source": [
        "import os, sys\n",
        "from google.colab import drive\n",
        "drive.mount('/content/drive')\n",
        "nb_path = '/content/notebooks'\n",
        "os.symlink('/content/drive/My Drive/Colab Notebooks', nb_path)\n",
        "sys.path.insert(0,nb_path)"
      ],
      "execution_count": null,
      "outputs": [
        {
          "output_type": "stream",
          "text": [
            "Mounted at /content/drive\n"
          ],
          "name": "stdout"
        }
      ]
    },
    {
      "cell_type": "markdown",
      "metadata": {
        "id": "z3NhrroPOJ_M"
      },
      "source": [
        "\n",
        "\n",
        "## Set-Up\n"
      ]
    },
    {
      "cell_type": "markdown",
      "metadata": {
        "id": "pEw0iTISYdh4"
      },
      "source": [
        "### Import Dataset from Kaggle"
      ]
    },
    {
      "cell_type": "code",
      "metadata": {
        "colab": {
          "resources": {
            "http://localhost:8080/nbextensions/google.colab/files.js": {
              "data": "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",
              "ok": true,
              "headers": [
                [
                  "content-type",
                  "application/javascript"
                ]
              ],
              "status": 200,
              "status_text": ""
            }
          },
          "base_uri": "https://localhost:8080/",
          "height": 56
        },
        "id": "7SI8_H5buZRX",
        "outputId": "14c69c1c-0cbb-4b09-c2d5-806c41e47960"
      },
      "source": [
        "from google.colab import files\n",
        "files.upload()"
      ],
      "execution_count": 1,
      "outputs": [
        {
          "output_type": "display_data",
          "data": {
            "text/html": [
              "\n",
              "     <input type=\"file\" id=\"files-ea66f11f-b62f-4015-9dfa-e0af39a3ad4c\" name=\"files[]\" multiple disabled\n",
              "        style=\"border:none\" />\n",
              "     <output id=\"result-ea66f11f-b62f-4015-9dfa-e0af39a3ad4c\">\n",
              "      Upload widget is only available when the cell has been executed in the\n",
              "      current browser session. Please rerun this cell to enable.\n",
              "      </output>\n",
              "      <script src=\"/nbextensions/google.colab/files.js\"></script> "
            ],
            "text/plain": [
              "<IPython.core.display.HTML object>"
            ]
          },
          "metadata": {
            "tags": []
          }
        },
        {
          "output_type": "execute_result",
          "data": {
            "text/plain": [
              "{}"
            ]
          },
          "metadata": {
            "tags": []
          },
          "execution_count": 1
        }
      ]
    },
    {
      "cell_type": "code",
      "metadata": {
        "colab": {
          "base_uri": "https://localhost:8080/"
        },
        "id": "dPoUS0_eIxTU",
        "outputId": "9254c2ed-6031-4da8-9e19-7490ebcdb527"
      },
      "source": [
        "!ls"
      ],
      "execution_count": 2,
      "outputs": [
        {
          "output_type": "stream",
          "text": [
            " data\t\t    kaggle.json\t\t\t        sample_data\n",
            "'kaggle (1).json'   recsys-2020-ecommerce-dataset.zip\n"
          ],
          "name": "stdout"
        }
      ]
    },
    {
      "cell_type": "code",
      "metadata": {
        "id": "nkvRUl_ZwYl8"
      },
      "source": [
        "!mkdir ~/.kaggle"
      ],
      "execution_count": 3,
      "outputs": []
    },
    {
      "cell_type": "code",
      "metadata": {
        "id": "uteW2fLJwe_e"
      },
      "source": [
        "!cp kaggle.json ~/.kaggle/"
      ],
      "execution_count": 6,
      "outputs": []
    },
    {
      "cell_type": "code",
      "metadata": {
        "id": "TOzk2KeHwnYD"
      },
      "source": [
        "!chmod 600 ~/.kaggle/kaggle.json"
      ],
      "execution_count": 3,
      "outputs": []
    },
    {
      "cell_type": "code",
      "metadata": {
        "colab": {
          "base_uri": "https://localhost:8080/"
        },
        "id": "zXu82EJqyzwT",
        "outputId": "3d025674-8a09-4627-f0ff-d8a61f79a7e0"
      },
      "source": [
        "!kaggle datasets download -d dschettler8845/recsys-2020-ecommerce-dataset"
      ],
      "execution_count": 5,
      "outputs": [
        {
          "output_type": "stream",
          "text": [
            "recsys-2020-ecommerce-dataset.zip: Skipping, found more recently modified local copy (use --force to force download)\n"
          ],
          "name": "stdout"
        }
      ]
    },
    {
      "cell_type": "code",
      "metadata": {
        "colab": {
          "base_uri": "https://localhost:8080/"
        },
        "id": "pH5bASLLzrVo",
        "outputId": "ee896ff7-cd8d-48af-ca7c-db615ad5fb69"
      },
      "source": [
        "! unzip recsys-2020-ecommerce-dataset.zip -d data"
      ],
      "execution_count": 6,
      "outputs": [
        {
          "output_type": "stream",
          "text": [
            "Archive:  recsys-2020-ecommerce-dataset.zip\n",
            "replace data/test.parquet? [y]es, [n]o, [A]ll, [N]one, [r]ename: "
          ],
          "name": "stdout"
        }
      ]
    },
    {
      "cell_type": "code",
      "metadata": {
        "colab": {
          "base_uri": "https://localhost:8080/"
        },
        "id": "-ZQ9GOwvG74Z",
        "outputId": "70312740-bec6-4056-a941-12b9dba23821"
      },
      "source": [
        "!ls data"
      ],
      "execution_count": 5,
      "outputs": [
        {
          "output_type": "stream",
          "text": [
            "test.parquet  train.parquet  val.parquet\n"
          ],
          "name": "stdout"
        }
      ]
    },
    {
      "cell_type": "code",
      "metadata": {
        "colab": {
          "base_uri": "https://localhost:8080/"
        },
        "id": "KEzJnKDQHPJ-",
        "outputId": "471ddb17-7451-43a3-d20f-f333e9f8c4c3"
      },
      "source": [
        "!nvidia-smi"
      ],
      "execution_count": 4,
      "outputs": [
        {
          "output_type": "stream",
          "text": [
            "Fri Mar 19 16:16:08 2021       \n",
            "+-----------------------------------------------------------------------------+\n",
            "| NVIDIA-SMI 460.56       Driver Version: 460.32.03    CUDA Version: 11.2     |\n",
            "|-------------------------------+----------------------+----------------------+\n",
            "| GPU  Name        Persistence-M| Bus-Id        Disp.A | Volatile Uncorr. ECC |\n",
            "| Fan  Temp  Perf  Pwr:Usage/Cap|         Memory-Usage | GPU-Util  Compute M. |\n",
            "|                               |                      |               MIG M. |\n",
            "|===============================+======================+======================|\n",
            "|   0  Tesla T4            Off  | 00000000:00:04.0 Off |                    0 |\n",
            "| N/A   38C    P8     9W /  70W |      0MiB / 15109MiB |      0%      Default |\n",
            "|                               |                      |                  N/A |\n",
            "+-------------------------------+----------------------+----------------------+\n",
            "                                                                               \n",
            "+-----------------------------------------------------------------------------+\n",
            "| Processes:                                                                  |\n",
            "|  GPU   GI   CI        PID   Type   Process name                  GPU Memory |\n",
            "|        ID   ID                                                   Usage      |\n",
            "|=============================================================================|\n",
            "|  No running processes found                                                 |\n",
            "+-----------------------------------------------------------------------------+\n"
          ],
          "name": "stdout"
        }
      ]
    },
    {
      "cell_type": "markdown",
      "metadata": {
        "id": "2Hr3846dVk9u"
      },
      "source": [
        "## Dataset Description\n",
        "\n",
        "This file contaisn behavior data for 7 months (from October 2019 to April 2020) from a large multi-category online store.\n",
        "\n",
        "Each row in the file represents an event. All events are related to products and users. Each event is like many-to-many relation between products and users.\n",
        "\n",
        "\n",
        "|   Property\t|  Description \t|\n",
        "|---\t|---\t|\n",
        "|   **event_time**\t|   Time when event happened at (in UTC)\t|\n",
        "|   **event_type**\t|   Only one kind of event: purchase\t|\n",
        "|   **product_id**\t|   \tID of a product  |\n",
        "|   **category_id**\t|   Product's category ID\t|\n",
        "|   **category_code**\t|  Product's category taxonomy (code name) if it was possible to make it \t|\n",
        "|   **brand**\t|   Downcased string of brand name. Can be missed\t|\n",
        "|  **price** \t|   Float price of a product. Present.\t|\n",
        "|  **user_id** \t|   Permanent user ID.\t|\n",
        "|**user_session**| Temporary user's session ID. Same for each user's session. Is changed every time user come back to online store from a long pause|\n"
      ]
    },
    {
      "cell_type": "markdown",
      "metadata": {
        "id": "7AEygr0EOCPg"
      },
      "source": [
        "# Start Here\n",
        "\n"
      ]
    },
    {
      "cell_type": "markdown",
      "metadata": {
        "id": "AYNGR2IaYnaV"
      },
      "source": [
        "### Overview of the dataset"
      ]
    },
    {
      "cell_type": "code",
      "metadata": {
        "id": "AJdEiAQEzD4c"
      },
      "source": [
        "import pandas as pd\n",
        "import numpy as np\n",
        "#import cudf\n",
        "import tensorflow as tf\n",
        "import matplotlib.pyplot as plt\n",
        "import datawig"
      ],
      "execution_count": 6,
      "outputs": []
    },
    {
      "cell_type": "code",
      "metadata": {
        "id": "FvX1g1IagLSw"
      },
      "source": [
        "#read\n",
        "df_train = pd.read_parquet('data/train.parquet')\n",
        "df_valid = pd.read_parquet('data/val.parquet')\n",
        "df_test = pd.read_parquet('data/test.parquet')"
      ],
      "execution_count": 7,
      "outputs": []
    },
    {
      "cell_type": "code",
      "metadata": {
        "colab": {
          "base_uri": "https://localhost:8080/"
        },
        "id": "SGAwSPNQHUVr",
        "outputId": "9c5dd8bc-b49a-4a11-94db-40d217f6566b"
      },
      "source": [
        "df_train.shape, df_valid.shape, df_test.shape"
      ],
      "execution_count": 19,
      "outputs": [
        {
          "output_type": "execute_result",
          "data": {
            "text/plain": [
              "((11495242, 19), (2466048, 19), (2781480, 19))"
            ]
          },
          "metadata": {
            "tags": []
          },
          "execution_count": 19
        }
      ]
    },
    {
      "cell_type": "code",
      "metadata": {
        "colab": {
          "base_uri": "https://localhost:8080/"
        },
        "id": "pWMFWbSPIREj",
        "outputId": "f7a14e9a-e9bd-4096-9402-5ebef19c3e5d"
      },
      "source": [
        "print(\"shape:\", df_train.shape)\n",
        "print(\"\\n names:\", df_train.columns)\n",
        "print(\"\\n data types: \\n\", df_train.dtypes)"
      ],
      "execution_count": 20,
      "outputs": [
        {
          "output_type": "stream",
          "text": [
            "shape: (11495242, 19)\n",
            "\n",
            " names: Index(['event_time', 'event_type', 'product_id', 'brand', 'price', 'user_id',\n",
            "       'user_session', 'target', 'cat_0', 'cat_1', 'cat_2', 'cat_3',\n",
            "       'timestamp', 'ts_hour', 'ts_minute', 'ts_weekday', 'ts_day', 'ts_month',\n",
            "       'ts_year'],\n",
            "      dtype='object')\n",
            "\n",
            " data types: \n",
            " event_time              object\n",
            "event_type              object\n",
            "product_id              object\n",
            "brand                   object\n",
            "price                   object\n",
            "user_id                 object\n",
            "user_session            object\n",
            "target                   int64\n",
            "cat_0                   object\n",
            "cat_1                   object\n",
            "cat_2                   object\n",
            "cat_3                   object\n",
            "timestamp       datetime64[ns]\n",
            "ts_hour                  int16\n",
            "ts_minute                int16\n",
            "ts_weekday               int16\n",
            "ts_day                   int16\n",
            "ts_month                 int16\n",
            "ts_year                  int16\n",
            "dtype: object\n"
          ],
          "name": "stdout"
        }
      ]
    },
    {
      "cell_type": "code",
      "metadata": {
        "id": "eg33gl68J9-i"
      },
      "source": [
        "df = pd.concat([df_train, df_valid, df_test], ignore_index=True)"
      ],
      "execution_count": 8,
      "outputs": []
    },
    {
      "cell_type": "code",
      "metadata": {
        "id": "dMiIScYfKgRq"
      },
      "source": [
        "df['timestamp'] = pd.to_datetime(df['timestamp'])"
      ],
      "execution_count": 9,
      "outputs": []
    },
    {
      "cell_type": "code",
      "metadata": {
        "colab": {
          "base_uri": "https://localhost:8080/",
          "height": 467
        },
        "id": "J4Lkd6RVNgDr",
        "outputId": "e1203391-2612-4dcd-8912-bb326c9c5175"
      },
      "source": [
        "df.head()"
      ],
      "execution_count": 16,
      "outputs": [
        {
          "output_type": "execute_result",
          "data": {
            "text/html": [
              "<div>\n",
              "<style scoped>\n",
              "    .dataframe tbody tr th:only-of-type {\n",
              "        vertical-align: middle;\n",
              "    }\n",
              "\n",
              "    .dataframe tbody tr th {\n",
              "        vertical-align: top;\n",
              "    }\n",
              "\n",
              "    .dataframe thead th {\n",
              "        text-align: right;\n",
              "    }\n",
              "</style>\n",
              "<table border=\"1\" class=\"dataframe\">\n",
              "  <thead>\n",
              "    <tr style=\"text-align: right;\">\n",
              "      <th></th>\n",
              "      <th>event_time</th>\n",
              "      <th>event_type</th>\n",
              "      <th>product_id</th>\n",
              "      <th>brand</th>\n",
              "      <th>price</th>\n",
              "      <th>user_id</th>\n",
              "      <th>user_session</th>\n",
              "      <th>target</th>\n",
              "      <th>cat_0</th>\n",
              "      <th>cat_1</th>\n",
              "      <th>cat_2</th>\n",
              "      <th>cat_3</th>\n",
              "      <th>timestamp</th>\n",
              "      <th>ts_hour</th>\n",
              "      <th>ts_minute</th>\n",
              "      <th>ts_weekday</th>\n",
              "      <th>ts_day</th>\n",
              "      <th>ts_month</th>\n",
              "      <th>ts_year</th>\n",
              "    </tr>\n",
              "  </thead>\n",
              "  <tbody>\n",
              "    <tr>\n",
              "      <th>0</th>\n",
              "      <td>2019-11-01 00:00:14 UTC</td>\n",
              "      <td>cart</td>\n",
              "      <td>1005014</td>\n",
              "      <td>samsung</td>\n",
              "      <td>503.09</td>\n",
              "      <td>533326659</td>\n",
              "      <td>6b928be2-2bce-4640-8296-0efdf2fda22a</td>\n",
              "      <td>0</td>\n",
              "      <td>electronics</td>\n",
              "      <td>smartphone</td>\n",
              "      <td>NaN</td>\n",
              "      <td>NaN</td>\n",
              "      <td>2019-11-01 00:00:14</td>\n",
              "      <td>0</td>\n",
              "      <td>0</td>\n",
              "      <td>4</td>\n",
              "      <td>1</td>\n",
              "      <td>11</td>\n",
              "      <td>2019</td>\n",
              "    </tr>\n",
              "    <tr>\n",
              "      <th>1</th>\n",
              "      <td>2019-11-01 00:03:39 UTC</td>\n",
              "      <td>cart</td>\n",
              "      <td>1005115</td>\n",
              "      <td>apple</td>\n",
              "      <td>949.47</td>\n",
              "      <td>565865924</td>\n",
              "      <td>fd4bd6d4-bd14-4fdc-9aff-bd41a594f82e</td>\n",
              "      <td>0</td>\n",
              "      <td>electronics</td>\n",
              "      <td>smartphone</td>\n",
              "      <td>NaN</td>\n",
              "      <td>NaN</td>\n",
              "      <td>2019-11-01 00:03:39</td>\n",
              "      <td>0</td>\n",
              "      <td>3</td>\n",
              "      <td>4</td>\n",
              "      <td>1</td>\n",
              "      <td>11</td>\n",
              "      <td>2019</td>\n",
              "    </tr>\n",
              "    <tr>\n",
              "      <th>2</th>\n",
              "      <td>2019-11-01 00:05:54 UTC</td>\n",
              "      <td>cart</td>\n",
              "      <td>1002542</td>\n",
              "      <td>apple</td>\n",
              "      <td>486.80</td>\n",
              "      <td>549256216</td>\n",
              "      <td>dcbdc6e4-cd49-4ee8-95c5-e85f3c618fa1</td>\n",
              "      <td>0</td>\n",
              "      <td>electronics</td>\n",
              "      <td>smartphone</td>\n",
              "      <td>NaN</td>\n",
              "      <td>NaN</td>\n",
              "      <td>2019-11-01 00:05:54</td>\n",
              "      <td>0</td>\n",
              "      <td>5</td>\n",
              "      <td>4</td>\n",
              "      <td>1</td>\n",
              "      <td>11</td>\n",
              "      <td>2019</td>\n",
              "    </tr>\n",
              "    <tr>\n",
              "      <th>3</th>\n",
              "      <td>2019-11-01 00:07:22 UTC</td>\n",
              "      <td>cart</td>\n",
              "      <td>1002542</td>\n",
              "      <td>apple</td>\n",
              "      <td>486.80</td>\n",
              "      <td>549256216</td>\n",
              "      <td>dcbdc6e4-cd49-4ee8-95c5-e85f3c618fa1</td>\n",
              "      <td>0</td>\n",
              "      <td>electronics</td>\n",
              "      <td>smartphone</td>\n",
              "      <td>NaN</td>\n",
              "      <td>NaN</td>\n",
              "      <td>2019-11-01 00:07:22</td>\n",
              "      <td>0</td>\n",
              "      <td>7</td>\n",
              "      <td>4</td>\n",
              "      <td>1</td>\n",
              "      <td>11</td>\n",
              "      <td>2019</td>\n",
              "    </tr>\n",
              "    <tr>\n",
              "      <th>4</th>\n",
              "      <td>2019-11-01 00:10:45 UTC</td>\n",
              "      <td>cart</td>\n",
              "      <td>4804056</td>\n",
              "      <td>apple</td>\n",
              "      <td>160.57</td>\n",
              "      <td>522355747</td>\n",
              "      <td>0a1f37d1-71b7-4645-a8a7-ab91bc198a51</td>\n",
              "      <td>0</td>\n",
              "      <td>electronics</td>\n",
              "      <td>audio</td>\n",
              "      <td>headphone</td>\n",
              "      <td>NaN</td>\n",
              "      <td>2019-11-01 00:10:45</td>\n",
              "      <td>0</td>\n",
              "      <td>10</td>\n",
              "      <td>4</td>\n",
              "      <td>1</td>\n",
              "      <td>11</td>\n",
              "      <td>2019</td>\n",
              "    </tr>\n",
              "  </tbody>\n",
              "</table>\n",
              "</div>"
            ],
            "text/plain": [
              "                event_time event_type product_id  ... ts_day ts_month ts_year\n",
              "0  2019-11-01 00:00:14 UTC       cart    1005014  ...      1       11    2019\n",
              "1  2019-11-01 00:03:39 UTC       cart    1005115  ...      1       11    2019\n",
              "2  2019-11-01 00:05:54 UTC       cart    1002542  ...      1       11    2019\n",
              "3  2019-11-01 00:07:22 UTC       cart    1002542  ...      1       11    2019\n",
              "4  2019-11-01 00:10:45 UTC       cart    4804056  ...      1       11    2019\n",
              "\n",
              "[5 rows x 19 columns]"
            ]
          },
          "metadata": {
            "tags": []
          },
          "execution_count": 16
        }
      ]
    },
    {
      "cell_type": "markdown",
      "metadata": {
        "id": "fa7Ph8X6Kzxa"
      },
      "source": [
        "> Each row is an event on the online store having timestamp, price, brand, categories, etc"
      ]
    },
    {
      "cell_type": "markdown",
      "metadata": {
        "id": "sNzibvXhWCDw"
      },
      "source": [
        "# Exploratory Data Analysis"
      ]
    },
    {
      "cell_type": "code",
      "metadata": {
        "colab": {
          "base_uri": "https://localhost:8080/"
        },
        "id": "kwq4TpjlKTbj",
        "outputId": "1531917f-bb3e-430c-94b6-c8f0b1a16efe"
      },
      "source": [
        "df.target.mean()"
      ],
      "execution_count": 17,
      "outputs": [
        {
          "output_type": "execute_result",
          "data": {
            "text/plain": [
              "0.36775742604121064"
            ]
          },
          "metadata": {
            "tags": []
          },
          "execution_count": 17
        }
      ]
    },
    {
      "cell_type": "code",
      "metadata": {
        "colab": {
          "base_uri": "https://localhost:8080/"
        },
        "id": "4x6qQWskLPrE",
        "outputId": "aa458356-5599-40b1-f09a-2f58eacb05d9"
      },
      "source": [
        "df['event_type'].value_counts(normalize=True)"
      ],
      "execution_count": 18,
      "outputs": [
        {
          "output_type": "execute_result",
          "data": {
            "text/plain": [
              "cart        0.632243\n",
              "purchase    0.367757\n",
              "Name: event_type, dtype: float64"
            ]
          },
          "metadata": {
            "tags": []
          },
          "execution_count": 18
        }
      ]
    },
    {
      "cell_type": "code",
      "metadata": {
        "colab": {
          "base_uri": "https://localhost:8080/"
        },
        "id": "FTteASotLeae",
        "outputId": "f7cd9a7a-8842-4446-c197-6f54c975beb6"
      },
      "source": [
        "print('No.of datapoints' + str(df.shape))\n",
        "print('No.of unique users:' + str(df['user_id'].drop_duplicates().shape))\n",
        "print('No.of unique products:' + str(df['product_id'].drop_duplicates().shape))\n",
        "print('No.of unique sessions:' + str(df['user_session'].drop_duplicates().shape))"
      ],
      "execution_count": 19,
      "outputs": [
        {
          "output_type": "stream",
          "text": [
            "No.of datapoints(16742770, 19)\n",
            "No.of unique users:(3584809,)\n",
            "No.of unique products:(214907,)\n",
            "No.of unique sessions:(10715053,)\n"
          ],
          "name": "stdout"
        }
      ]
    },
    {
      "cell_type": "code",
      "metadata": {
        "id": "C-CVQkHqNbAd"
      },
      "source": [
        "def plot_sparse(df, col):\n",
        "  stats = df[[col, 'target']].groupby(col).agg(['count', 'mean', 'sum'])\n",
        "  stats = stats.reset_index()\n",
        "  stats.columns = [col, 'count', 'mean', 'sum']\n",
        "  stats_sort = stats['count'].value_counts().reset_index()\n",
        "  plt.figure(figsize=(15,4))\n",
        "  plt.bar(stats_sort['index'].astype(str).values[0:20], \n",
        "          stats_sort['count'].values[0:20])\n",
        "  plt.title('Frequency of' + str(col))\n",
        "  plt.xlabel('Number frequency')\n",
        "  plt.ylabel('Frequency')"
      ],
      "execution_count": 20,
      "outputs": []
    },
    {
      "cell_type": "code",
      "metadata": {
        "colab": {
          "base_uri": "https://localhost:8080/",
          "height": 350
        },
        "id": "t311oNSwRCAH",
        "outputId": "09b1f6b6-8a2e-4443-d730-9c136f7913a3"
      },
      "source": [
        "plot_sparse(df, 'product_id')"
      ],
      "execution_count": 21,
      "outputs": [
        {
          "output_type": "stream",
          "text": [
            "2021-03-19 16:22:58,680 [INFO]  Using categorical units to plot a list of strings that are all parsable as floats or dates. If these strings should be plotted as numbers, cast to the appropriate data type before plotting.\n",
            "2021-03-19 16:22:58,682 [INFO]  Using categorical units to plot a list of strings that are all parsable as floats or dates. If these strings should be plotted as numbers, cast to the appropriate data type before plotting.\n"
          ],
          "name": "stderr"
        },
        {
          "output_type": "display_data",
          "data": {
            "image/png": "[encoded data removed]",
            "text/plain": [
              "<Figure size 1080x288 with 1 Axes>"
            ]
          },
          "metadata": {
            "tags": [],
            "needs_background": "light"
          }
        }
      ]
    },
    {
      "cell_type": "code",
      "metadata": {
        "colab": {
          "base_uri": "https://localhost:8080/",
          "height": 350
        },
        "id": "InzHGuMuTCsK",
        "outputId": "2a1c4f32-3622-454c-f3d9-25fd2db52124"
      },
      "source": [
        "plot_sparse(df, 'user_id')"
      ],
      "execution_count": 22,
      "outputs": [
        {
          "output_type": "stream",
          "text": [
            "2021-03-19 16:23:40,298 [INFO]  Using categorical units to plot a list of strings that are all parsable as floats or dates. If these strings should be plotted as numbers, cast to the appropriate data type before plotting.\n",
            "2021-03-19 16:23:40,300 [INFO]  Using categorical units to plot a list of strings that are all parsable as floats or dates. If these strings should be plotted as numbers, cast to the appropriate data type before plotting.\n"
          ],
          "name": "stderr"
        },
        {
          "output_type": "display_data",
          "data": {
            "image/png": "[encoded data removed]",
            "text/plain": [
              "<Figure size 1080x288 with 1 Axes>"
            ]
          },
          "metadata": {
            "tags": [],
            "needs_background": "light"
          }
        }
      ]
    },
    {
      "cell_type": "markdown",
      "metadata": {
        "id": "fRj2bDdoWQp-"
      },
      "source": [
        "# Data Preprocessing"
      ]
    },
    {
      "cell_type": "markdown",
      "metadata": {
        "id": "VmWVeP1kQyH9"
      },
      "source": [
        "#### Missing Values\n",
        "NA is not detected as missing values in python, therefore we need to replace NA with NaN"
      ]
    },
    {
      "cell_type": "code",
      "metadata": {
        "id": "AP932Q9fRAHr"
      },
      "source": [
        "df_train.replace('NA', np.nan, inplace=True)"
      ],
      "execution_count": 11,
      "outputs": []
    },
    {
      "cell_type": "code",
      "metadata": {
        "colab": {
          "base_uri": "https://localhost:8080/"
        },
        "id": "Ajv3p5XQRs8C",
        "outputId": "b27d0edd-270d-4585-ffcb-8dbf3128d263"
      },
      "source": [
        "#Calculate missing values \n",
        "def missing_values(df):\n",
        "  amount_missing = ((df.isnull()|df.isna()).sum())\n",
        "  percent_missing = amount_missing*100/len(df)\n",
        "  missing_value_df = pd.DataFrame({'column name':df.columns,\n",
        "                                   'amount missing':amount_missing,\n",
        "                                   'percentage':percent_missing})\n",
        "  missing_value_df.sort_values('percentage', ascending=False, inplace=True)\n",
        "  print(missing_value_df)\n",
        "\n",
        "missing_values(df_train)"
      ],
      "execution_count": 12,
      "outputs": [
        {
          "output_type": "stream",
          "text": [
            "2021-03-19 15:41:48,899 [INFO]  NumExpr defaulting to 2 threads.\n"
          ],
          "name": "stderr"
        },
        {
          "output_type": "stream",
          "text": [
            "               column name  amount missing  percentage\n",
            "cat_3                cat_3        11488757   99.943585\n",
            "cat_2                cat_2         5071243   44.116018\n",
            "cat_1                cat_1         1527738   13.290177\n",
            "cat_0                cat_0         1527738   13.290177\n",
            "brand                brand          949132    8.256738\n",
            "user_session  user_session              66    0.000574\n",
            "timestamp        timestamp               0    0.000000\n",
            "ts_month          ts_month               0    0.000000\n",
            "ts_day              ts_day               0    0.000000\n",
            "ts_weekday      ts_weekday               0    0.000000\n",
            "ts_minute        ts_minute               0    0.000000\n",
            "ts_hour            ts_hour               0    0.000000\n",
            "event_time      event_time               0    0.000000\n",
            "event_type      event_type               0    0.000000\n",
            "target              target               0    0.000000\n",
            "user_id            user_id               0    0.000000\n",
            "price                price               0    0.000000\n",
            "product_id      product_id               0    0.000000\n",
            "ts_year            ts_year               0    0.000000\n"
          ],
          "name": "stdout"
        }
      ]
    },
    {
      "cell_type": "markdown",
      "metadata": {
        "id": "C1Ke-VR_aO3_"
      },
      "source": [
        "What to do with missing values?\n",
        "\n",
        "There are several options\n",
        "1. Impute by a unique pointer like `unknown` for categorical values\n",
        "2. Impute missing value by using descriptive statistics (mean, median, etc)\n",
        "3. Impute missing values by using deep learning\n",
        "4. Impute missing values by using Extended Isolation Forest algorithm\n"
      ]
    },
    {
      "cell_type": "code",
      "metadata": {
        "id": "o8EWrN0Nb8sC"
      },
      "source": [
        "columns = ['brand', 'cat_0', 'cat_1', 'cat_2', 'cat_3', 'user_session']\n",
        "\n",
        "for i in columns:\n",
        "  df_train['NA_' + i] = df_train[i].isna().astype(np.int8)\n",
        "  df_train[i].fillna('UNKNOWN', inplace=True)"
      ],
      "execution_count": null,
      "outputs": []
    },
    {
      "cell_type": "code",
      "metadata": {
        "colab": {
          "base_uri": "https://localhost:8080/"
        },
        "id": "1JcobDfv-0N3",
        "outputId": "1478102f-21a3-46a3-b2e4-116c1f39f43d"
      },
      "source": [
        "df_train.isna().sum()"
      ],
      "execution_count": null,
      "outputs": [
        {
          "output_type": "execute_result",
          "data": {
            "text/plain": [
              "event_time         0\n",
              "event_type         0\n",
              "product_id         0\n",
              "brand              0\n",
              "price              0\n",
              "user_id            0\n",
              "user_session       0\n",
              "target             0\n",
              "cat_0              0\n",
              "cat_1              0\n",
              "cat_2              0\n",
              "cat_3              0\n",
              "timestamp          0\n",
              "ts_hour            0\n",
              "ts_minute          0\n",
              "ts_weekday         0\n",
              "ts_day             0\n",
              "ts_month           0\n",
              "ts_year            0\n",
              "NA_brand           0\n",
              "NA_cat_0           0\n",
              "NA_cat_1           0\n",
              "NA_cat_2           0\n",
              "NA_cat_3           0\n",
              "NA_user_session    0\n",
              "dtype: int64"
            ]
          },
          "metadata": {
            "tags": []
          },
          "execution_count": 47
        }
      ]
    },
    {
      "cell_type": "code",
      "metadata": {
        "colab": {
          "base_uri": "https://localhost:8080/",
          "height": 407
        },
        "id": "SeZcmb7y_INT",
        "outputId": "2e93a2d6-81b9-4df2-eaf1-5d7d2f9dbea5"
      },
      "source": [
        "df_train[['brand', 'target']].groupby(['brand']).agg(['mean', 'count']).sort_values(('target', 'count'), ascending=False).head(10)"
      ],
      "execution_count": null,
      "outputs": [
        {
          "output_type": "execute_result",
          "data": {
            "text/html": [
              "<div>\n",
              "<style scoped>\n",
              "    .dataframe tbody tr th:only-of-type {\n",
              "        vertical-align: middle;\n",
              "    }\n",
              "\n",
              "    .dataframe tbody tr th {\n",
              "        vertical-align: top;\n",
              "    }\n",
              "\n",
              "    .dataframe thead tr th {\n",
              "        text-align: left;\n",
              "    }\n",
              "\n",
              "    .dataframe thead tr:last-of-type th {\n",
              "        text-align: right;\n",
              "    }\n",
              "</style>\n",
              "<table border=\"1\" class=\"dataframe\">\n",
              "  <thead>\n",
              "    <tr>\n",
              "      <th></th>\n",
              "      <th colspan=\"2\" halign=\"left\">target</th>\n",
              "    </tr>\n",
              "    <tr>\n",
              "      <th></th>\n",
              "      <th>mean</th>\n",
              "      <th>count</th>\n",
              "    </tr>\n",
              "    <tr>\n",
              "      <th>brand</th>\n",
              "      <th></th>\n",
              "      <th></th>\n",
              "    </tr>\n",
              "  </thead>\n",
              "  <tbody>\n",
              "    <tr>\n",
              "      <th>samsung</th>\n",
              "      <td>0.436938</td>\n",
              "      <td>2329847</td>\n",
              "    </tr>\n",
              "    <tr>\n",
              "      <th>apple</th>\n",
              "      <td>0.418314</td>\n",
              "      <td>2040287</td>\n",
              "    </tr>\n",
              "    <tr>\n",
              "      <th>xiaomi</th>\n",
              "      <td>0.337278</td>\n",
              "      <td>1085216</td>\n",
              "    </tr>\n",
              "    <tr>\n",
              "      <th>UNKNOWN</th>\n",
              "      <td>0.299585</td>\n",
              "      <td>949132</td>\n",
              "    </tr>\n",
              "    <tr>\n",
              "      <th>huawei</th>\n",
              "      <td>0.429172</td>\n",
              "      <td>358290</td>\n",
              "    </tr>\n",
              "    <tr>\n",
              "      <th>oppo</th>\n",
              "      <td>0.462092</td>\n",
              "      <td>155283</td>\n",
              "    </tr>\n",
              "    <tr>\n",
              "      <th>lg</th>\n",
              "      <td>0.344652</td>\n",
              "      <td>153668</td>\n",
              "    </tr>\n",
              "    <tr>\n",
              "      <th>lucente</th>\n",
              "      <td>0.451764</td>\n",
              "      <td>152396</td>\n",
              "    </tr>\n",
              "    <tr>\n",
              "      <th>sony</th>\n",
              "      <td>0.349111</td>\n",
              "      <td>141342</td>\n",
              "    </tr>\n",
              "    <tr>\n",
              "      <th>artel</th>\n",
              "      <td>0.337901</td>\n",
              "      <td>110571</td>\n",
              "    </tr>\n",
              "  </tbody>\n",
              "</table>\n",
              "</div>"
            ],
            "text/plain": [
              "           target         \n",
              "             mean    count\n",
              "brand                     \n",
              "samsung  0.436938  2329847\n",
              "apple    0.418314  2040287\n",
              "xiaomi   0.337278  1085216\n",
              "UNKNOWN  0.299585   949132\n",
              "huawei   0.429172   358290\n",
              "oppo     0.462092   155283\n",
              "lg       0.344652   153668\n",
              "lucente  0.451764   152396\n",
              "sony     0.349111   141342\n",
              "artel    0.337901   110571"
            ]
          },
          "metadata": {
            "tags": []
          },
          "execution_count": 48
        }
      ]
    },
    {
      "cell_type": "markdown",
      "metadata": {
        "id": "QP4C302n_h8l"
      },
      "source": [
        "#### Imputation using Deep Learning"
      ]
    },
    {
      "cell_type": "code",
      "metadata": {
        "id": "Znl4fO-f_hNr"
      },
      "source": [
        ""
      ],
      "execution_count": null,
      "outputs": []
    }
  ]
}