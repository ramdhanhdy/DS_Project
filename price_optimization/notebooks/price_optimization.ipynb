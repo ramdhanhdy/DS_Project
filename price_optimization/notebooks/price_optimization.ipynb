{
 "cells": [
  {
   "cell_type": "markdown",
   "metadata": {},
   "source": [
    "# Price Optimization Project for Company ABC"
   ]
  },
  {
   "cell_type": "markdown",
   "metadata": {},
   "source": [
    "## Introduction\n",
    "\n",
    "The purpose of this project is to analyze a pricing experiment conducted by Company ABC. The company divided its user base into two groups: Group A, constituting 66% of the users, and Group B, the remaining 34%. Group A received a lower price offer, while Group B was presented with a higher price for the same product.\n",
    "\n",
    "The objectives of this analysis are to:\n",
    "\n",
    "- Execute exploratory data analysis on the experimental data.\n",
    "- Determine the statistical significance of the observed difference in conversion rates between the two groups via A/B testing.\n",
    "- Identify an optimal price for the product to maximize revenue.\n",
    "- Analyze user behavior and derive actionable insights to enhance conversion rates.\n",
    "- Determine an optimal duration for running such tests to yield stable and reliable results.\n",
    "\n",
    "This project utilizes two data sources: `test_results` and `user_table`. The `test_results` table contains information regarding user interactions on the site, the device used, the source of traffic, the price shown to the user, and the user's purchasing decision. The `user_table` includes geographical information about each user.\n",
    "\n",
    "The subsequent sections encompass data cleaning and preprocessing, exploratory data analysis, hypothesis testing, user behavior analysis, and the provision of insights based on the findings."
   ]
  },
  {
   "cell_type": "markdown",
   "metadata": {},
   "source": [
    "## Importing Packages"
   ]
  },
  {
   "cell_type": "code",
   "execution_count": 1,
   "metadata": {},
   "outputs": [],
   "source": [
    "# Import Necessary Libraries\n",
    "\n",
    "# Data handling libraries\n",
    "import pandas as pd\n",
    "import numpy as np\n",
    "\n",
    "# Visualization libraries\n",
    "import matplotlib.pyplot as plt\n",
    "import seaborn as sns\n",
    "\n",
    "# Statistical analysis libraries\n",
    "from scipy import stats\n",
    "\n",
    "\n",
    "%matplotlib inline\n"
   ]
  },
  {
   "cell_type": "markdown",
   "metadata": {},
   "source": [
    "## Loading the Data"
   ]
  },
  {
   "cell_type": "code",
   "execution_count": 2,
   "metadata": {},
   "outputs": [],
   "source": [
    "user_table = pd.read_csv(r\"C:\\Users\\ramdh\\Documents\\GitHub\\DS_Project\\Other\\Price Optimization Amazon DS Challenge\\data\\user_table.csv\")\n",
    "test_results = pd.read_csv(r\"C:\\Users\\ramdh\\Documents\\GitHub\\DS_Project\\Other\\Price Optimization Amazon DS Challenge\\data\\test_results.csv\")"
   ]
  },
  {
   "cell_type": "markdown",
   "metadata": {},
   "source": [
    "## Data Preprocessing"
   ]
  },
  {
   "cell_type": "code",
   "execution_count": 3,
   "metadata": {},
   "outputs": [],
   "source": [
    "def dataframe_info(df):\n",
    "    report = pd.DataFrame(columns=['Column', 'Data Type', 'Unique Count', 'Unique Sample', 'Missing Values', 'Missing Percentage'])\n",
    "    for column in df.columns:\n",
    "        data_type = df[column].dtype\n",
    "        unique_count = df[column].nunique()\n",
    "        unique_sample = df[column].unique()[:5]\n",
    "        missing_values = df[column].isnull().sum()\n",
    "        missing_percentage = (missing_values / len(df)) * 100\n",
    "        report = pd.concat([report, pd.DataFrame({'Column': [column],\n",
    "                                                      'Data Type': [data_type],\n",
    "                                                      'Unique Count': [unique_count],\n",
    "                                                      'Unique Sample': [unique_sample],\n",
    "                                                      'Missing Values': [missing_values],\n",
    "                                                      'Missing Percentage': [missing_percentage.round(4)]})],\n",
    "                             ignore_index=True)\n",
    "    return report"
   ]
  },
  {
   "cell_type": "code",
   "execution_count": 4,
   "metadata": {},
   "outputs": [
    {
     "name": "stdout",
     "output_type": "stream",
     "text": [
      "\n",
      "Duplicate rows in user_table: 0\n",
      "Duplicate rows in test_results: 0\n"
     ]
    }
   ],
   "source": [
    "print(\"\\nDuplicate rows in user_table:\", user_table.duplicated().sum())\n",
    "print(\"Duplicate rows in test_results:\", test_results.duplicated().sum())"
   ]
  },
  {
   "cell_type": "code",
   "execution_count": 5,
   "metadata": {},
   "outputs": [
    {
     "data": {
      "text/html": [
       "<div>\n",
       "<style scoped>\n",
       "    .dataframe tbody tr th:only-of-type {\n",
       "        vertical-align: middle;\n",
       "    }\n",
       "\n",
       "    .dataframe tbody tr th {\n",
       "        vertical-align: top;\n",
       "    }\n",
       "\n",
       "    .dataframe thead th {\n",
       "        text-align: right;\n",
       "    }\n",
       "</style>\n",
       "<table border=\"1\" class=\"dataframe\">\n",
       "  <thead>\n",
       "    <tr style=\"text-align: right;\">\n",
       "      <th></th>\n",
       "      <th>Column</th>\n",
       "      <th>Data Type</th>\n",
       "      <th>Unique Count</th>\n",
       "      <th>Unique Sample</th>\n",
       "      <th>Missing Values</th>\n",
       "      <th>Missing Percentage</th>\n",
       "    </tr>\n",
       "  </thead>\n",
       "  <tbody>\n",
       "    <tr>\n",
       "      <th>0</th>\n",
       "      <td>user_id</td>\n",
       "      <td>int64</td>\n",
       "      <td>275616</td>\n",
       "      <td>[510335, 89568, 434134, 289769, 939586]</td>\n",
       "      <td>0</td>\n",
       "      <td>0.0</td>\n",
       "    </tr>\n",
       "    <tr>\n",
       "      <th>1</th>\n",
       "      <td>city</td>\n",
       "      <td>object</td>\n",
       "      <td>923</td>\n",
       "      <td>[Peabody, Reno, Rialto, Carson City, Chicago]</td>\n",
       "      <td>0</td>\n",
       "      <td>0.0</td>\n",
       "    </tr>\n",
       "    <tr>\n",
       "      <th>2</th>\n",
       "      <td>country</td>\n",
       "      <td>object</td>\n",
       "      <td>1</td>\n",
       "      <td>[USA]</td>\n",
       "      <td>0</td>\n",
       "      <td>0.0</td>\n",
       "    </tr>\n",
       "    <tr>\n",
       "      <th>3</th>\n",
       "      <td>lat</td>\n",
       "      <td>float64</td>\n",
       "      <td>713</td>\n",
       "      <td>[42.53, 39.54, 34.11, 39.15, 41.84]</td>\n",
       "      <td>0</td>\n",
       "      <td>0.0</td>\n",
       "    </tr>\n",
       "    <tr>\n",
       "      <th>4</th>\n",
       "      <td>long</td>\n",
       "      <td>float64</td>\n",
       "      <td>830</td>\n",
       "      <td>[-70.97, -119.82, -117.39, -119.74, -87.68]</td>\n",
       "      <td>0</td>\n",
       "      <td>0.0</td>\n",
       "    </tr>\n",
       "  </tbody>\n",
       "</table>\n",
       "</div>"
      ],
      "text/plain": [
       "    Column Data Type Unique Count  \\\n",
       "0  user_id     int64       275616   \n",
       "1     city    object          923   \n",
       "2  country    object            1   \n",
       "3      lat   float64          713   \n",
       "4     long   float64          830   \n",
       "\n",
       "                                   Unique Sample Missing Values  \\\n",
       "0        [510335, 89568, 434134, 289769, 939586]              0   \n",
       "1  [Peabody, Reno, Rialto, Carson City, Chicago]              0   \n",
       "2                                          [USA]              0   \n",
       "3            [42.53, 39.54, 34.11, 39.15, 41.84]              0   \n",
       "4    [-70.97, -119.82, -117.39, -119.74, -87.68]              0   \n",
       "\n",
       "   Missing Percentage  \n",
       "0                 0.0  \n",
       "1                 0.0  \n",
       "2                 0.0  \n",
       "3                 0.0  \n",
       "4                 0.0  "
      ]
     },
     "execution_count": 5,
     "metadata": {},
     "output_type": "execute_result"
    }
   ],
   "source": [
    "dataframe_info(user_table)"
   ]
  },
  {
   "cell_type": "code",
   "execution_count": 22,
   "metadata": {},
   "outputs": [
    {
     "data": {
      "text/plain": [
       "(275616, 5)"
      ]
     },
     "execution_count": 22,
     "metadata": {},
     "output_type": "execute_result"
    }
   ],
   "source": [
    "user_table.shape"
   ]
  },
  {
   "cell_type": "code",
   "execution_count": 6,
   "metadata": {},
   "outputs": [
    {
     "data": {
      "text/html": [
       "<div>\n",
       "<style scoped>\n",
       "    .dataframe tbody tr th:only-of-type {\n",
       "        vertical-align: middle;\n",
       "    }\n",
       "\n",
       "    .dataframe tbody tr th {\n",
       "        vertical-align: top;\n",
       "    }\n",
       "\n",
       "    .dataframe thead th {\n",
       "        text-align: right;\n",
       "    }\n",
       "</style>\n",
       "<table border=\"1\" class=\"dataframe\">\n",
       "  <thead>\n",
       "    <tr style=\"text-align: right;\">\n",
       "      <th></th>\n",
       "      <th>Column</th>\n",
       "      <th>Data Type</th>\n",
       "      <th>Unique Count</th>\n",
       "      <th>Unique Sample</th>\n",
       "      <th>Missing Values</th>\n",
       "      <th>Missing Percentage</th>\n",
       "    </tr>\n",
       "  </thead>\n",
       "  <tbody>\n",
       "    <tr>\n",
       "      <th>0</th>\n",
       "      <td>user_id</td>\n",
       "      <td>int64</td>\n",
       "      <td>316800</td>\n",
       "      <td>[604839, 624057, 317970, 685636, 820854]</td>\n",
       "      <td>0</td>\n",
       "      <td>0.0</td>\n",
       "    </tr>\n",
       "    <tr>\n",
       "      <th>1</th>\n",
       "      <td>timestamp</td>\n",
       "      <td>object</td>\n",
       "      <td>140931</td>\n",
       "      <td>[2015-05-08 03:38:34, 2015-05-10 21:08:46, 201...</td>\n",
       "      <td>0</td>\n",
       "      <td>0.0</td>\n",
       "    </tr>\n",
       "    <tr>\n",
       "      <th>2</th>\n",
       "      <td>source</td>\n",
       "      <td>object</td>\n",
       "      <td>12</td>\n",
       "      <td>[ads_facebook, seo-google, ads-bing, direct_tr...</td>\n",
       "      <td>0</td>\n",
       "      <td>0.0</td>\n",
       "    </tr>\n",
       "    <tr>\n",
       "      <th>3</th>\n",
       "      <td>device</td>\n",
       "      <td>object</td>\n",
       "      <td>2</td>\n",
       "      <td>[mobile, web]</td>\n",
       "      <td>0</td>\n",
       "      <td>0.0</td>\n",
       "    </tr>\n",
       "    <tr>\n",
       "      <th>4</th>\n",
       "      <td>operative_system</td>\n",
       "      <td>object</td>\n",
       "      <td>6</td>\n",
       "      <td>[iOS, android, mac, windows, other]</td>\n",
       "      <td>0</td>\n",
       "      <td>0.0</td>\n",
       "    </tr>\n",
       "    <tr>\n",
       "      <th>5</th>\n",
       "      <td>test</td>\n",
       "      <td>int64</td>\n",
       "      <td>2</td>\n",
       "      <td>[0, 1]</td>\n",
       "      <td>0</td>\n",
       "      <td>0.0</td>\n",
       "    </tr>\n",
       "    <tr>\n",
       "      <th>6</th>\n",
       "      <td>price</td>\n",
       "      <td>int64</td>\n",
       "      <td>2</td>\n",
       "      <td>[39, 59]</td>\n",
       "      <td>0</td>\n",
       "      <td>0.0</td>\n",
       "    </tr>\n",
       "    <tr>\n",
       "      <th>7</th>\n",
       "      <td>converted</td>\n",
       "      <td>int64</td>\n",
       "      <td>2</td>\n",
       "      <td>[0, 1]</td>\n",
       "      <td>0</td>\n",
       "      <td>0.0</td>\n",
       "    </tr>\n",
       "  </tbody>\n",
       "</table>\n",
       "</div>"
      ],
      "text/plain": [
       "             Column Data Type Unique Count  \\\n",
       "0           user_id     int64       316800   \n",
       "1         timestamp    object       140931   \n",
       "2            source    object           12   \n",
       "3            device    object            2   \n",
       "4  operative_system    object            6   \n",
       "5              test     int64            2   \n",
       "6             price     int64            2   \n",
       "7         converted     int64            2   \n",
       "\n",
       "                                       Unique Sample Missing Values  \\\n",
       "0           [604839, 624057, 317970, 685636, 820854]              0   \n",
       "1  [2015-05-08 03:38:34, 2015-05-10 21:08:46, 201...              0   \n",
       "2  [ads_facebook, seo-google, ads-bing, direct_tr...              0   \n",
       "3                                      [mobile, web]              0   \n",
       "4                [iOS, android, mac, windows, other]              0   \n",
       "5                                             [0, 1]              0   \n",
       "6                                           [39, 59]              0   \n",
       "7                                             [0, 1]              0   \n",
       "\n",
       "   Missing Percentage  \n",
       "0                 0.0  \n",
       "1                 0.0  \n",
       "2                 0.0  \n",
       "3                 0.0  \n",
       "4                 0.0  \n",
       "5                 0.0  \n",
       "6                 0.0  \n",
       "7                 0.0  "
      ]
     },
     "execution_count": 6,
     "metadata": {},
     "output_type": "execute_result"
    }
   ],
   "source": [
    "dataframe_info(test_results)"
   ]
  },
  {
   "cell_type": "code",
   "execution_count": 7,
   "metadata": {},
   "outputs": [
    {
     "data": {
      "text/plain": [
       "(316800, 8)"
      ]
     },
     "execution_count": 7,
     "metadata": {},
     "output_type": "execute_result"
    }
   ],
   "source": [
    "test_results.shape"
   ]
  },
  {
   "cell_type": "markdown",
   "metadata": {},
   "source": [
    "### Identifying and handling invalid timestamps"
   ]
  },
  {
   "cell_type": "markdown",
   "metadata": {},
   "source": [
    "An issue was discovered when converting the 'timestamp' column to a datetime object, due to the presence of some invalid entries."
   ]
  },
  {
   "cell_type": "code",
   "execution_count": 5,
   "metadata": {},
   "outputs": [
    {
     "name": "stdout",
     "output_type": "stream",
     "text": [
      "Number of invalid timestamps:  10271\n"
     ]
    }
   ],
   "source": [
    "temp_df = test_results.copy(deep=True)\n",
    "temp_df['timestamp'] = pd.to_datetime(temp_df['timestamp'], errors='coerce')\n",
    "\n",
    "# Create a new DataFrame where the 'timestamp' column is NaT (Not a Time)\n",
    "invalid_timestamps = temp_df[temp_df['timestamp'].isna()]\n",
    "\n",
    "print(\"Number of invalid timestamps: \", invalid_timestamps.shape[0])"
   ]
  },
  {
   "cell_type": "markdown",
   "metadata": {},
   "source": [
    "These entries are invalid due to their incorrect format. For instance, timestamps such as '2015-04-24 12:60:46' have the minutes value outside the acceptable range (0-59). Such anomalies can arise from data entry errors or issues in the data collection process. "
   ]
  },
  {
   "cell_type": "code",
   "execution_count": 6,
   "metadata": {},
   "outputs": [
    {
     "data": {
      "text/html": [
       "<div>\n",
       "<style scoped>\n",
       "    .dataframe tbody tr th:only-of-type {\n",
       "        vertical-align: middle;\n",
       "    }\n",
       "\n",
       "    .dataframe tbody tr th {\n",
       "        vertical-align: top;\n",
       "    }\n",
       "\n",
       "    .dataframe thead th {\n",
       "        text-align: right;\n",
       "    }\n",
       "</style>\n",
       "<table border=\"1\" class=\"dataframe\">\n",
       "  <thead>\n",
       "    <tr style=\"text-align: right;\">\n",
       "      <th></th>\n",
       "      <th>user_id</th>\n",
       "      <th>timestamp</th>\n",
       "      <th>source</th>\n",
       "      <th>device</th>\n",
       "      <th>operative_system</th>\n",
       "      <th>test</th>\n",
       "      <th>price</th>\n",
       "      <th>converted</th>\n",
       "    </tr>\n",
       "  </thead>\n",
       "  <tbody>\n",
       "    <tr>\n",
       "      <th>54</th>\n",
       "      <td>370914</td>\n",
       "      <td>2015-04-24 12:60:46</td>\n",
       "      <td>direct_traffic</td>\n",
       "      <td>mobile</td>\n",
       "      <td>android</td>\n",
       "      <td>0</td>\n",
       "      <td>39</td>\n",
       "      <td>0</td>\n",
       "    </tr>\n",
       "    <tr>\n",
       "      <th>104</th>\n",
       "      <td>549807</td>\n",
       "      <td>2015-04-24 11:60:20</td>\n",
       "      <td>friend_referral</td>\n",
       "      <td>mobile</td>\n",
       "      <td>iOS</td>\n",
       "      <td>0</td>\n",
       "      <td>39</td>\n",
       "      <td>0</td>\n",
       "    </tr>\n",
       "    <tr>\n",
       "      <th>121</th>\n",
       "      <td>107010</td>\n",
       "      <td>2015-03-14 12:60:02</td>\n",
       "      <td>direct_traffic</td>\n",
       "      <td>web</td>\n",
       "      <td>windows</td>\n",
       "      <td>0</td>\n",
       "      <td>39</td>\n",
       "      <td>0</td>\n",
       "    </tr>\n",
       "    <tr>\n",
       "      <th>278</th>\n",
       "      <td>287830</td>\n",
       "      <td>2015-04-04 02:23:60</td>\n",
       "      <td>direct_traffic</td>\n",
       "      <td>web</td>\n",
       "      <td>windows</td>\n",
       "      <td>1</td>\n",
       "      <td>59</td>\n",
       "      <td>0</td>\n",
       "    </tr>\n",
       "    <tr>\n",
       "      <th>282</th>\n",
       "      <td>676183</td>\n",
       "      <td>2015-05-11 12:60:53</td>\n",
       "      <td>ads-google</td>\n",
       "      <td>web</td>\n",
       "      <td>windows</td>\n",
       "      <td>1</td>\n",
       "      <td>59</td>\n",
       "      <td>0</td>\n",
       "    </tr>\n",
       "  </tbody>\n",
       "</table>\n",
       "</div>"
      ],
      "text/plain": [
       "     user_id            timestamp           source  device operative_system  \\\n",
       "54    370914  2015-04-24 12:60:46   direct_traffic  mobile          android   \n",
       "104   549807  2015-04-24 11:60:20  friend_referral  mobile              iOS   \n",
       "121   107010  2015-03-14 12:60:02   direct_traffic     web          windows   \n",
       "278   287830  2015-04-04 02:23:60   direct_traffic     web          windows   \n",
       "282   676183  2015-05-11 12:60:53       ads-google     web          windows   \n",
       "\n",
       "     test  price  converted  \n",
       "54      0     39          0  \n",
       "104     0     39          0  \n",
       "121     0     39          0  \n",
       "278     1     59          0  \n",
       "282     1     59          0  "
      ]
     },
     "execution_count": 6,
     "metadata": {},
     "output_type": "execute_result"
    }
   ],
   "source": [
    "anomaly_df = test_results.loc[invalid_timestamps.index]\n",
    "anomaly_df.head()"
   ]
  },
  {
   "cell_type": "code",
   "execution_count": 7,
   "metadata": {},
   "outputs": [],
   "source": [
    "def correct_minute(value):\n",
    "    try:\n",
    "        pd.to_datetime(value)\n",
    "        return value\n",
    "    except:\n",
    "        return value.replace(\"60\", \"59\")\n",
    "\n",
    "df_processed = test_results.copy(deep=True)\n",
    "\n",
    "df_processed['timestamp'] = df_processed['timestamp'].apply(correct_minute)\n",
    "df_processed['timestamp'] = pd.to_datetime(df_processed['timestamp'])\n",
    "\n",
    "# df_processed.to_csv(r'C:\\Users\\ramdh\\Documents\\GitHub\\DS_Project\\price_optimization\\data\\processed\\test_results_processed.csv', index=False)"
   ]
  },
  {
   "cell_type": "code",
   "execution_count": 8,
   "metadata": {},
   "outputs": [],
   "source": [
    "del temp_df\n",
    "del anomaly_df"
   ]
  },
  {
   "cell_type": "markdown",
   "metadata": {},
   "source": [
    "# Exploratory Data Analysis"
   ]
  },
  {
   "cell_type": "markdown",
   "metadata": {},
   "source": [
    "### Analysis of Conversion Rates by Product Price"
   ]
  },
  {
   "cell_type": "code",
   "execution_count": 9,
   "metadata": {},
   "outputs": [
    {
     "name": "stdout",
     "output_type": "stream",
     "text": [
      "Overall Conversion Rate:  0.018333333333333333\n",
      "Conversion Rate for old price:  0.019903614220108817\n",
      "Conversion Rate for higher price:  0.015542678810936857\n"
     ]
    }
   ],
   "source": [
    "# Overall Conversion Rate\n",
    "overall_conversion_rate = df_processed['converted'].mean()\n",
    "\n",
    "# Conversion Rate for users who saw the old price\n",
    "old_price_conversion_rate = df_processed[df_processed['test'] == 0]['converted'].mean()\n",
    "\n",
    "# Conversion Rate for users who saw the higher price\n",
    "higher_price_conversion_rate = df_processed[df_processed['test'] == 1]['converted'].mean()\n",
    "\n",
    "print(\"Overall Conversion Rate: \", overall_conversion_rate)\n",
    "print(\"Conversion Rate for old price: \", old_price_conversion_rate)\n",
    "print(\"Conversion Rate for higher price: \", higher_price_conversion_rate)"
   ]
  },
  {
   "cell_type": "code",
   "execution_count": 23,
   "metadata": {},
   "outputs": [
    {
     "data": {
      "text/html": [
       "<div>\n",
       "<style scoped>\n",
       "    .dataframe tbody tr th:only-of-type {\n",
       "        vertical-align: middle;\n",
       "    }\n",
       "\n",
       "    .dataframe tbody tr th {\n",
       "        vertical-align: top;\n",
       "    }\n",
       "\n",
       "    .dataframe thead th {\n",
       "        text-align: right;\n",
       "    }\n",
       "</style>\n",
       "<table border=\"1\" class=\"dataframe\">\n",
       "  <thead>\n",
       "    <tr style=\"text-align: right;\">\n",
       "      <th></th>\n",
       "      <th>converted</th>\n",
       "    </tr>\n",
       "    <tr>\n",
       "      <th>price</th>\n",
       "      <th></th>\n",
       "    </tr>\n",
       "  </thead>\n",
       "  <tbody>\n",
       "    <tr>\n",
       "      <th>39</th>\n",
       "      <td>0.019889</td>\n",
       "    </tr>\n",
       "    <tr>\n",
       "      <th>59</th>\n",
       "      <td>0.015570</td>\n",
       "    </tr>\n",
       "  </tbody>\n",
       "</table>\n",
       "</div>"
      ],
      "text/plain": [
       "       converted\n",
       "price           \n",
       "39      0.019889\n",
       "59      0.015570"
      ]
     },
     "execution_count": 23,
     "metadata": {},
     "output_type": "execute_result"
    }
   ],
   "source": [
    "df_processed[['price', 'converted']].groupby('price').mean()"
   ]
  },
  {
   "cell_type": "markdown",
   "metadata": {},
   "source": [
    "The provided output illustrates the average conversion rates for the two product prices: $39 and $59.\n",
    "\n",
    "At a price of $39, the conversion rate is approximately 1.99%. At $59, it decreases to about 1.56%. This suggests a slightly higher likelihood of product purchase at the lower price. However, this doesn't account for other influencing factors like traffic source, device, or operating system. Further multivariate analysis or predictive modeling is required for a more comprehensive understanding."
   ]
  },
  {
   "cell_type": "markdown",
   "metadata": {},
   "source": [
    "### Preliminary Assessment of Test Results and Identification of Anomalies"
   ]
  },
  {
   "cell_type": "code",
   "execution_count": 20,
   "metadata": {},
   "outputs": [
    {
     "data": {
      "text/html": [
       "<div>\n",
       "<style scoped>\n",
       "    .dataframe tbody tr th:only-of-type {\n",
       "        vertical-align: middle;\n",
       "    }\n",
       "\n",
       "    .dataframe tbody tr th {\n",
       "        vertical-align: top;\n",
       "    }\n",
       "\n",
       "    .dataframe thead th {\n",
       "        text-align: right;\n",
       "    }\n",
       "</style>\n",
       "<table border=\"1\" class=\"dataframe\">\n",
       "  <thead>\n",
       "    <tr style=\"text-align: right;\">\n",
       "      <th></th>\n",
       "      <th></th>\n",
       "      <th>converted</th>\n",
       "    </tr>\n",
       "    <tr>\n",
       "      <th>test</th>\n",
       "      <th>price</th>\n",
       "      <th></th>\n",
       "    </tr>\n",
       "  </thead>\n",
       "  <tbody>\n",
       "    <tr>\n",
       "      <th rowspan=\"2\" valign=\"top\">0</th>\n",
       "      <th>39</th>\n",
       "      <td>0.019900</td>\n",
       "    </tr>\n",
       "    <tr>\n",
       "      <th>59</th>\n",
       "      <td>0.023810</td>\n",
       "    </tr>\n",
       "    <tr>\n",
       "      <th rowspan=\"2\" valign=\"top\">1</th>\n",
       "      <th>39</th>\n",
       "      <td>0.006452</td>\n",
       "    </tr>\n",
       "    <tr>\n",
       "      <th>59</th>\n",
       "      <td>0.015555</td>\n",
       "    </tr>\n",
       "  </tbody>\n",
       "</table>\n",
       "</div>"
      ],
      "text/plain": [
       "            converted\n",
       "test price           \n",
       "0    39      0.019900\n",
       "     59      0.023810\n",
       "1    39      0.006452\n",
       "     59      0.015555"
      ]
     },
     "execution_count": 20,
     "metadata": {},
     "output_type": "execute_result"
    }
   ],
   "source": [
    "df_processed[['price', 'converted', 'test']].groupby(['test', 'price']).mean()"
   ]
  },
  {
   "cell_type": "markdown",
   "metadata": {},
   "source": [
    "The data table provided shows the conversion rates observed in the test and control groups, broken down by the price presented to the user.\n",
    "\n",
    "In the control group (test=0), users who saw the price as $39 had a conversion rate of about 1.99%. This suggests that for any given user in the control group who was presented with a price of $39, there was a 1.99% chance they would make a purchase.\n",
    "\n",
    "Interestingly, in the control group, users who saw the price as $59 had a slightly higher conversion rate of about 2.38%. This suggests that for any given user in the control group who was presented with a price of $59, there was a 2.38% chance they would make a purchase. It is unusual to observe a higher conversion rate for a higher price in the same group, suggesting there may be some inconsistencies in the data or other confounding factors influencing these results.\n",
    "\n",
    "In the test group (test=1), users who saw the price as $39 had a conversion rate of about 0.645%. This implies that there was a 0.645% chance that a user in the test group who saw the $39 price would make a purchase.\n",
    "\n",
    "For users in the test group who were shown a price of $59, the conversion rate was approximately 1.56%, suggesting a 1.56% chance that they would convert. Here, as expected, a higher price resulted in a lower conversion rate compared to the lower price in the same group.\n",
    "\n",
    "This discrepancy in conversion rates given different prices within the same group (control or test) indicates the need for a closer examination of the data, or that there may be other variables at play that are affecting these results."
   ]
  },
  {
   "cell_type": "markdown",
   "metadata": {},
   "source": [
    "### Conversion Rates by Operating System and Product Price"
   ]
  },
  {
   "cell_type": "code",
   "execution_count": 24,
   "metadata": {},
   "outputs": [
    {
     "data": {
      "text/html": [
       "<div>\n",
       "<style scoped>\n",
       "    .dataframe tbody tr th:only-of-type {\n",
       "        vertical-align: middle;\n",
       "    }\n",
       "\n",
       "    .dataframe tbody tr th {\n",
       "        vertical-align: top;\n",
       "    }\n",
       "\n",
       "    .dataframe thead th {\n",
       "        text-align: right;\n",
       "    }\n",
       "</style>\n",
       "<table border=\"1\" class=\"dataframe\">\n",
       "  <thead>\n",
       "    <tr style=\"text-align: right;\">\n",
       "      <th></th>\n",
       "      <th></th>\n",
       "      <th>converted</th>\n",
       "    </tr>\n",
       "    <tr>\n",
       "      <th>price</th>\n",
       "      <th>operative_system</th>\n",
       "      <th></th>\n",
       "    </tr>\n",
       "  </thead>\n",
       "  <tbody>\n",
       "    <tr>\n",
       "      <th rowspan=\"6\" valign=\"top\">39</th>\n",
       "      <th>android</th>\n",
       "      <td>0.016325</td>\n",
       "    </tr>\n",
       "    <tr>\n",
       "      <th>iOS</th>\n",
       "      <td>0.023592</td>\n",
       "    </tr>\n",
       "    <tr>\n",
       "      <th>linux</th>\n",
       "      <td>0.015413</td>\n",
       "    </tr>\n",
       "    <tr>\n",
       "      <th>mac</th>\n",
       "      <td>0.025437</td>\n",
       "    </tr>\n",
       "    <tr>\n",
       "      <th>other</th>\n",
       "      <td>0.014012</td>\n",
       "    </tr>\n",
       "    <tr>\n",
       "      <th>windows</th>\n",
       "      <td>0.018688</td>\n",
       "    </tr>\n",
       "    <tr>\n",
       "      <th rowspan=\"6\" valign=\"top\">59</th>\n",
       "      <th>android</th>\n",
       "      <td>0.012422</td>\n",
       "    </tr>\n",
       "    <tr>\n",
       "      <th>iOS</th>\n",
       "      <td>0.019987</td>\n",
       "    </tr>\n",
       "    <tr>\n",
       "      <th>linux</th>\n",
       "      <td>0.000000</td>\n",
       "    </tr>\n",
       "    <tr>\n",
       "      <th>mac</th>\n",
       "      <td>0.021303</td>\n",
       "    </tr>\n",
       "    <tr>\n",
       "      <th>other</th>\n",
       "      <td>0.011027</td>\n",
       "    </tr>\n",
       "    <tr>\n",
       "      <th>windows</th>\n",
       "      <td>0.014008</td>\n",
       "    </tr>\n",
       "  </tbody>\n",
       "</table>\n",
       "</div>"
      ],
      "text/plain": [
       "                        converted\n",
       "price operative_system           \n",
       "39    android            0.016325\n",
       "      iOS                0.023592\n",
       "      linux              0.015413\n",
       "      mac                0.025437\n",
       "      other              0.014012\n",
       "      windows            0.018688\n",
       "59    android            0.012422\n",
       "      iOS                0.019987\n",
       "      linux              0.000000\n",
       "      mac                0.021303\n",
       "      other              0.011027\n",
       "      windows            0.014008"
      ]
     },
     "execution_count": 24,
     "metadata": {},
     "output_type": "execute_result"
    }
   ],
   "source": [
    "df_processed[['price', 'converted', 'operative_system']].groupby(['price', 'operative_system']).mean()"
   ]
  },
  {
   "cell_type": "code",
   "execution_count": 25,
   "metadata": {},
   "outputs": [
    {
     "data": {
      "image/png": "[encoded data removed]",
      "text/plain": [
       "<Figure size 1000x600 with 1 Axes>"
      ]
     },
     "metadata": {},
     "output_type": "display_data"
    }
   ],
   "source": [
    "# Creating a new DataFrame for the grouped data\n",
    "df_grouped = df_processed.groupby(['operative_system', 'price'])['converted'].mean().reset_index()\n",
    "\n",
    "# Plotting\n",
    "plt.figure(figsize=(10,6))\n",
    "sns.barplot(x='operative_system', y='converted', hue='price', data=df_grouped)\n",
    "\n",
    "plt.title('Conversion Rates by Operating System and Product Price')\n",
    "plt.ylabel('Conversion Rate')\n",
    "plt.xlabel('Operating System')\n",
    "plt.show()"
   ]
  },
  {
   "cell_type": "code",
   "execution_count": 26,
   "metadata": {},
   "outputs": [
    {
     "data": {
      "image/png": "[encoded data removed]",
      "text/plain": [
       "<Figure size 1000x600 with 1 Axes>"
      ]
     },
     "metadata": {},
     "output_type": "display_data"
    }
   ],
   "source": [
    "plt.figure(figsize=(10,6))\n",
    "sns.lineplot(x='operative_system', y='converted', hue='price', data=df_grouped, marker='o')\n",
    "\n",
    "plt.title('Trends in Conversion Rates by Operating System and Product Price')\n",
    "plt.ylabel('Conversion Rate')\n",
    "plt.xlabel('Operating System')\n",
    "plt.legend(title='Price')\n",
    "plt.show()\n"
   ]
  },
  {
   "cell_type": "markdown",
   "metadata": {},
   "source": [
    "This table illustrates the conversion rates for each operative system at both price points. In general, iOS and Mac users exhibit higher conversion rates, potentially indicating a correlation between Apple users and a higher willingness to purchase the product. Interestingly, there is no conversion observed for Linux users at the $59 price point. Overall, the conversion rates for all operative systems appear to decrease when the price increases from $39 to $59."
   ]
  },
  {
   "cell_type": "code",
   "execution_count": 12,
   "metadata": {},
   "outputs": [
    {
     "data": {
      "text/html": [
       "<div>\n",
       "<style scoped>\n",
       "    .dataframe tbody tr th:only-of-type {\n",
       "        vertical-align: middle;\n",
       "    }\n",
       "\n",
       "    .dataframe tbody tr th {\n",
       "        vertical-align: top;\n",
       "    }\n",
       "\n",
       "    .dataframe thead th {\n",
       "        text-align: right;\n",
       "    }\n",
       "</style>\n",
       "<table border=\"1\" class=\"dataframe\">\n",
       "  <thead>\n",
       "    <tr style=\"text-align: right;\">\n",
       "      <th></th>\n",
       "      <th>Column</th>\n",
       "      <th>Data Type</th>\n",
       "      <th>Unique Count</th>\n",
       "      <th>Unique Sample</th>\n",
       "      <th>Missing Values</th>\n",
       "      <th>Missing Percentage</th>\n",
       "    </tr>\n",
       "  </thead>\n",
       "  <tbody>\n",
       "    <tr>\n",
       "      <th>0</th>\n",
       "      <td>user_id</td>\n",
       "      <td>int64</td>\n",
       "      <td>316800</td>\n",
       "      <td>[604839, 624057, 317970, 685636, 820854]</td>\n",
       "      <td>0</td>\n",
       "      <td>0.0</td>\n",
       "    </tr>\n",
       "    <tr>\n",
       "      <th>1</th>\n",
       "      <td>timestamp</td>\n",
       "      <td>datetime64[ns]</td>\n",
       "      <td>140743</td>\n",
       "      <td>[2015-05-08T03:38:34.000000000, 2015-05-10T21:...</td>\n",
       "      <td>0</td>\n",
       "      <td>0.0</td>\n",
       "    </tr>\n",
       "    <tr>\n",
       "      <th>2</th>\n",
       "      <td>source</td>\n",
       "      <td>object</td>\n",
       "      <td>12</td>\n",
       "      <td>[ads_facebook, seo-google, ads-bing, direct_tr...</td>\n",
       "      <td>0</td>\n",
       "      <td>0.0</td>\n",
       "    </tr>\n",
       "    <tr>\n",
       "      <th>3</th>\n",
       "      <td>device</td>\n",
       "      <td>object</td>\n",
       "      <td>2</td>\n",
       "      <td>[mobile, web]</td>\n",
       "      <td>0</td>\n",
       "      <td>0.0</td>\n",
       "    </tr>\n",
       "    <tr>\n",
       "      <th>4</th>\n",
       "      <td>operative_system</td>\n",
       "      <td>object</td>\n",
       "      <td>6</td>\n",
       "      <td>[iOS, android, mac, windows, other]</td>\n",
       "      <td>0</td>\n",
       "      <td>0.0</td>\n",
       "    </tr>\n",
       "    <tr>\n",
       "      <th>5</th>\n",
       "      <td>test</td>\n",
       "      <td>int64</td>\n",
       "      <td>2</td>\n",
       "      <td>[0, 1]</td>\n",
       "      <td>0</td>\n",
       "      <td>0.0</td>\n",
       "    </tr>\n",
       "    <tr>\n",
       "      <th>6</th>\n",
       "      <td>price</td>\n",
       "      <td>int64</td>\n",
       "      <td>2</td>\n",
       "      <td>[39, 59]</td>\n",
       "      <td>0</td>\n",
       "      <td>0.0</td>\n",
       "    </tr>\n",
       "    <tr>\n",
       "      <th>7</th>\n",
       "      <td>converted</td>\n",
       "      <td>int64</td>\n",
       "      <td>2</td>\n",
       "      <td>[0, 1]</td>\n",
       "      <td>0</td>\n",
       "      <td>0.0</td>\n",
       "    </tr>\n",
       "  </tbody>\n",
       "</table>\n",
       "</div>"
      ],
      "text/plain": [
       "             Column       Data Type Unique Count  \\\n",
       "0           user_id           int64       316800   \n",
       "1         timestamp  datetime64[ns]       140743   \n",
       "2            source          object           12   \n",
       "3            device          object            2   \n",
       "4  operative_system          object            6   \n",
       "5              test           int64            2   \n",
       "6             price           int64            2   \n",
       "7         converted           int64            2   \n",
       "\n",
       "                                       Unique Sample Missing Values  \\\n",
       "0           [604839, 624057, 317970, 685636, 820854]              0   \n",
       "1  [2015-05-08T03:38:34.000000000, 2015-05-10T21:...              0   \n",
       "2  [ads_facebook, seo-google, ads-bing, direct_tr...              0   \n",
       "3                                      [mobile, web]              0   \n",
       "4                [iOS, android, mac, windows, other]              0   \n",
       "5                                             [0, 1]              0   \n",
       "6                                           [39, 59]              0   \n",
       "7                                             [0, 1]              0   \n",
       "\n",
       "   Missing Percentage  \n",
       "0                 0.0  \n",
       "1                 0.0  \n",
       "2                 0.0  \n",
       "3                 0.0  \n",
       "4                 0.0  \n",
       "5                 0.0  \n",
       "6                 0.0  \n",
       "7                 0.0  "
      ]
     },
     "execution_count": 12,
     "metadata": {},
     "output_type": "execute_result"
    }
   ],
   "source": [
    "dataframe_info(df_processed)"
   ]
  },
  {
   "cell_type": "markdown",
   "metadata": {},
   "source": [
    "## Feature Engineering"
   ]
  },
  {
   "cell_type": "code",
   "execution_count": 14,
   "metadata": {},
   "outputs": [],
   "source": [
    "df_processed['hour'] = df_processed['timestamp'].dt.hour\n",
    "df_processed['day'] = df_processed['timestamp'].dt.day\n",
    "df_processed['month'] = df_processed['timestamp'].dt.month"
   ]
  },
  {
   "cell_type": "markdown",
   "metadata": {},
   "source": [
    "### Target Encoding"
   ]
  },
  {
   "cell_type": "code",
   "execution_count": 17,
   "metadata": {},
   "outputs": [
    {
     "data": {
      "text/html": [
       "<div>\n",
       "<style scoped>\n",
       "    .dataframe tbody tr th:only-of-type {\n",
       "        vertical-align: middle;\n",
       "    }\n",
       "\n",
       "    .dataframe tbody tr th {\n",
       "        vertical-align: top;\n",
       "    }\n",
       "\n",
       "    .dataframe thead th {\n",
       "        text-align: right;\n",
       "    }\n",
       "</style>\n",
       "<table border=\"1\" class=\"dataframe\">\n",
       "  <thead>\n",
       "    <tr style=\"text-align: right;\">\n",
       "      <th></th>\n",
       "      <th>converted</th>\n",
       "    </tr>\n",
       "    <tr>\n",
       "      <th>price</th>\n",
       "      <th></th>\n",
       "    </tr>\n",
       "  </thead>\n",
       "  <tbody>\n",
       "    <tr>\n",
       "      <th>39</th>\n",
       "      <td>0.019889</td>\n",
       "    </tr>\n",
       "    <tr>\n",
       "      <th>59</th>\n",
       "      <td>0.015570</td>\n",
       "    </tr>\n",
       "  </tbody>\n",
       "</table>\n",
       "</div>"
      ],
      "text/plain": [
       "       converted\n",
       "price           \n",
       "39      0.019889\n",
       "59      0.015570"
      ]
     },
     "execution_count": 17,
     "metadata": {},
     "output_type": "execute_result"
    }
   ],
   "source": [
    "df_processed[['price', 'converted']].groupby('price').mean()"
   ]
  },
  {
   "cell_type": "code",
   "execution_count": 11,
   "metadata": {},
   "outputs": [],
   "source": [
    "from sklearn.model_selection import train_test_split\n",
    "from sklearn.pipeline import Pipeline\n",
    "from sklearn.compose import ColumnTransformer\n",
    "from sklearn.preprocessing import OneHotEncoder\n",
    "from sklearn.metrics import roc_auc_score, log_loss"
   ]
  },
  {
   "cell_type": "code",
   "execution_count": null,
   "metadata": {},
   "outputs": [],
   "source": [
    "target = 'converted'\n",
    "X_train, X_test, y_train, y_test = train_test_split(\n",
    "    df_processed.drop(target, axis=1), df_processed[target] == \"Yes\", test_size=0.2, random_state=0\n",
    ")"
   ]
  }
 ],
 "metadata": {
  "kernelspec": {
   "display_name": "priceopt_env",
   "language": "python",
   "name": "python3"
  },
  "language_info": {
   "codemirror_mode": {
    "name": "ipython",
    "version": 3
   },
   "file_extension": ".py",
   "mimetype": "text/x-python",
   "name": "python",
   "nbconvert_exporter": "python",
   "pygments_lexer": "ipython3",
   "version": "3.11.4"
  },
  "orig_nbformat": 4
 },
 "nbformat": 4,
 "nbformat_minor": 2
}
