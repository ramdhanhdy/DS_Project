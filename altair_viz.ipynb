{
  "nbformat": 4,
  "nbformat_minor": 0,
  "metadata": {
    "colab": {
      "name": "altair_viz.ipynb",
      "provenance": [],
      "collapsed_sections": [],
      "authorship_tag": "ABX9TyOKyKiE8rqPkHzqfzmQRuox",
      "include_colab_link": true
    },
    "kernelspec": {
      "name": "python3",
      "display_name": "Python 3"
    }
  },
  "cells": [
    {
      "cell_type": "markdown",
      "metadata": {
        "id": "view-in-github",
        "colab_type": "text"
      },
      "source": [
        "<a href=\"https://colab.research.google.com/github/ramdhanhdy/Ramdhan_Portfolio/blob/main/altair_viz.ipynb\" target=\"_parent\"><img src=\"https://colab.research.google.com/assets/colab-badge.svg\" alt=\"Open In Colab\"/></a>"
      ]
    },
    {
      "cell_type": "markdown",
      "metadata": {
        "id": "7oE7Erxw7Gf-"
      },
      "source": [
        "## About this notebook:\r\n",
        "\r\n",
        "This notebook is a practice material for multivariate visualization using altair and vega-lite"
      ]
    },
    {
      "cell_type": "markdown",
      "metadata": {
        "id": "T-szIr7c88KB"
      },
      "source": [
        "## Understanding Altair and Vega-lite structure\r\n",
        "\r\n",
        "reference: https://altair-viz.github.io/user_guide/internals.html"
      ]
    },
    {
      "cell_type": "markdown",
      "metadata": {
        "id": "CarkE6-N9KGa"
      },
      "source": [
        "## Viz Gallery\r\n"
      ]
    },
    {
      "cell_type": "code",
      "metadata": {
        "id": "1My1d8gH3aj5"
      },
      "source": [
        "import altair as alt\r\n",
        "from vega_datasets import data\r\n",
        "import pandas as pd"
      ],
      "execution_count": 2,
      "outputs": []
    },
    {
      "cell_type": "markdown",
      "metadata": {
        "id": "vJmQfArx9oON"
      },
      "source": [
        "### Scatterplot with filled circles"
      ]
    },
    {
      "cell_type": "code",
      "metadata": {
        "colab": {
          "base_uri": "https://localhost:8080/"
        },
        "id": "ebL2XEmbGg3U",
        "outputId": "5b45340b-65a2-41dd-d28a-4e250237ada5"
      },
      "source": [
        "#enable rendering via html (the default is JS)\r\n",
        "alt.renderers.enable('notebook')"
      ],
      "execution_count": 27,
      "outputs": [
        {
          "output_type": "execute_result",
          "data": {
            "text/plain": [
              "RendererRegistry.enable('notebook')"
            ]
          },
          "metadata": {
            "tags": []
          },
          "execution_count": 27
        }
      ]
    },
    {
      "cell_type": "code",
      "metadata": {
        "colab": {
          "base_uri": "https://localhost:8080/"
        },
        "id": "23T0I2mA3pyA",
        "outputId": "81f7ac0c-f229-4d2e-fbe1-13ee58939594"
      },
      "source": [
        "source = data.disasters.url\r\n",
        "print(source)\r\n",
        "\r\n",
        "df = pd.read_csv(source)\r\n",
        "df.head"
      ],
      "execution_count": 18,
      "outputs": [
        {
          "output_type": "stream",
          "text": [
            "https://cdn.jsdelivr.net/npm/vega-datasets@v1.29.0/data/disasters.csv\n"
          ],
          "name": "stdout"
        },
        {
          "output_type": "execute_result",
          "data": {
            "text/plain": [
              "<bound method NDFrame.head of                     Entity  Year   Deaths\n",
              "0    All natural disasters  1900  1267360\n",
              "1    All natural disasters  1901   200018\n",
              "2    All natural disasters  1902    46037\n",
              "3    All natural disasters  1903     6506\n",
              "4    All natural disasters  1905    22758\n",
              "..                     ...   ...      ...\n",
              "798               Wildfire  2013       35\n",
              "799               Wildfire  2014       16\n",
              "800               Wildfire  2015       67\n",
              "801               Wildfire  2016       39\n",
              "802               Wildfire  2017       75\n",
              "\n",
              "[803 rows x 3 columns]>"
            ]
          },
          "metadata": {
            "tags": []
          },
          "execution_count": 18
        }
      ]
    },
    {
      "cell_type": "code",
      "metadata": {
        "colab": {
          "base_uri": "https://localhost:8080/",
          "height": 16
        },
        "id": "KhEqXrcI3smF",
        "outputId": "a124ab92-9dfd-4a2e-fff5-7cd56c5ec477"
      },
      "source": [
        "alt.Chart(source).mark_circle(\r\n",
        "    opacity = 0.8,\r\n",
        "    stroke = 'black',\r\n",
        "    strokeWidth=1\r\n",
        ").encode(\r\n",
        "    alt.X('Year:O', axis=alt.Axis(labelAngle=0)),\r\n",
        "    alt.Y('Entity:N'),\r\n",
        "    alt.Size('Deaths:Q',\r\n",
        "             scale=alt.Scale(range=[0, 400]),\r\n",
        "             legend=alt.Legend(title='Annual Global Deaths')\r\n",
        "    ),\r\n",
        "    alt.Color('Entity:N', legend=None)\r\n",
        ").properties(\r\n",
        "    width=450,\r\n",
        "    height=320\r\n",
        ").transform_filter(\r\n",
        "      alt.datum.Entity != 'All natural disasters'     \r\n",
        ")"
      ],
      "execution_count": 28,
      "outputs": [
        {
          "output_type": "display_data",
          "data": {
            "application/javascript": [
              "const spec = {\"config\": {\"view\": {\"continuousWidth\": 400, \"continuousHeight\": 300}}, \"data\": {\"url\": \"https://cdn.jsdelivr.net/npm/vega-datasets@v1.29.0/data/disasters.csv\"}, \"mark\": {\"type\": \"circle\", \"opacity\": 0.8, \"stroke\": \"black\", \"strokeWidth\": 1}, \"encoding\": {\"color\": {\"type\": \"nominal\", \"field\": \"Entity\", \"legend\": null}, \"size\": {\"type\": \"quantitative\", \"field\": \"Deaths\", \"legend\": {\"title\": \"Annual Global Deaths\"}, \"scale\": {\"range\": [0, 400]}}, \"x\": {\"type\": \"ordinal\", \"axis\": {\"labelAngle\": 0}, \"field\": \"Year\"}, \"y\": {\"type\": \"nominal\", \"field\": \"Entity\"}}, \"height\": 320, \"transform\": [{\"filter\": \"(datum.Entity !== 'All natural disasters')\"}], \"width\": 450, \"$schema\": \"https://vega.github.io/schema/vega-lite/v4.8.1.json\"};\n",
              "const opt = {};\n",
              "const type = \"vega-lite\";\n",
              "const id = \"afa8240d-46ce-4f74-86bf-e0d2b1729bc5\";\n",
              "\n",
              "const output_area = this;\n",
              "\n",
              "require([\"nbextensions/jupyter-vega/index\"], function(vega) {\n",
              "  const target = document.createElement(\"div\");\n",
              "  target.id = id;\n",
              "  target.className = \"vega-embed\";\n",
              "\n",
              "  const style = document.createElement(\"style\");\n",
              "  style.textContent = [\n",
              "    \".vega-embed .error p {\",\n",
              "    \"  color: firebrick;\",\n",
              "    \"  font-size: 14px;\",\n",
              "    \"}\",\n",
              "  ].join(\"\\\\n\");\n",
              "\n",
              "  // element is a jQuery wrapped DOM element inside the output area\n",
              "  // see http://ipython.readthedocs.io/en/stable/api/generated/\\\n",
              "  // IPython.display.html#IPython.display.Javascript.__init__\n",
              "  element[0].appendChild(target);\n",
              "  element[0].appendChild(style);\n",
              "\n",
              "  vega.render(\"#\" + id, spec, type, opt, output_area);\n",
              "}, function (err) {\n",
              "  if (err.requireType !== \"scripterror\") {\n",
              "    throw(err);\n",
              "  }\n",
              "});\n"
            ],
            "text/plain": [
              "<vega.vegalite.VegaLite at 0x7f02eaa79d10>"
            ]
          },
          "metadata": {
            "tags": [],
            "jupyter-vega": "#afa8240d-46ce-4f74-86bf-e0d2b1729bc5"
          }
        },
        {
          "output_type": "execute_result",
          "data": {
            "text/plain": [
              ""
            ]
          },
          "metadata": {
            "tags": []
          },
          "execution_count": 28
        }
      ]
    },
    {
      "cell_type": "markdown",
      "metadata": {
        "id": "n8gYPv2N78zo"
      },
      "source": [
        "### Streamgraph (for time-series data)"
      ]
    },
    {
      "cell_type": "code",
      "metadata": {
        "colab": {
          "base_uri": "https://localhost:8080/"
        },
        "id": "lVdVCeLW78Cp",
        "outputId": "5210102c-20d9-4c1f-f62b-0731a3cde9f0"
      },
      "source": [
        "source = data.unemployment_across_industries.url\r\n",
        "print(source)"
      ],
      "execution_count": 15,
      "outputs": [
        {
          "output_type": "stream",
          "text": [
            "https://cdn.jsdelivr.net/npm/vega-datasets@v1.29.0/data/unemployment-across-industries.json\n"
          ],
          "name": "stdout"
        }
      ]
    },
    {
      "cell_type": "code",
      "metadata": {
        "colab": {
          "base_uri": "https://localhost:8080/"
        },
        "id": "3rOESbB98b-w",
        "outputId": "951c1ba2-1612-4034-d777-e7f98a2cf9a9"
      },
      "source": [
        "df = pd.read_json(source)\r\n",
        "df.head"
      ],
      "execution_count": 16,
      "outputs": [
        {
          "output_type": "execute_result",
          "data": {
            "text/plain": [
              "<bound method NDFrame.head of              series  year  month  count  rate                      date\n",
              "0        Government  2000      1    430   2.1 2000-01-01 08:00:00+00:00\n",
              "1        Government  2000      2    409   2.0 2000-02-01 08:00:00+00:00\n",
              "2        Government  2000      3    311   1.5 2000-03-01 08:00:00+00:00\n",
              "3        Government  2000      4    269   1.3 2000-04-01 08:00:00+00:00\n",
              "4        Government  2000      5    370   1.9 2000-05-01 07:00:00+00:00\n",
              "...             ...   ...    ...    ...   ...                       ...\n",
              "1703  Self-employed  2009     10    610   5.9 2009-10-01 07:00:00+00:00\n",
              "1704  Self-employed  2009     11    592   5.7 2009-11-01 07:00:00+00:00\n",
              "1705  Self-employed  2009     12    609   5.9 2009-12-01 08:00:00+00:00\n",
              "1706  Self-employed  2010      1    730   7.2 2010-01-01 08:00:00+00:00\n",
              "1707  Self-employed  2010      2    680   6.5 2010-02-01 08:00:00+00:00\n",
              "\n",
              "[1708 rows x 6 columns]>"
            ]
          },
          "metadata": {
            "tags": []
          },
          "execution_count": 16
        }
      ]
    },
    {
      "cell_type": "code",
      "metadata": {
        "colab": {
          "base_uri": "https://localhost:8080/",
          "height": 358
        },
        "id": "uroiiSVm8htA",
        "outputId": "7e5e7776-d9ac-44b3-b31f-b655488cc98a"
      },
      "source": [
        "alt.Chart(source).mark_area().encode(\r\n",
        "    alt.X('yearmonth(date):T',\r\n",
        "          axis=alt.Axis(format='%Y', domain=False, tickSize=0)\r\n",
        "    ),\r\n",
        "    alt.Y('sum(count):Q', stack='center', axis=None),\r\n",
        "    alt.Color('series:N',\r\n",
        "              scale=alt.Scale(scheme='category20b')\r\n",
        "    )\r\n",
        ").interactive()"
      ],
      "execution_count": 17,
      "outputs": [
        {
          "output_type": "execute_result",
          "data": {
            "text/plain": [
              "alt.Chart(...)"
            ],
            "text/html": [
              "\n",
              "<div id=\"altair-viz-c0fefc9e3c544039a170a37da3819e3d\"></div>\n",
              "<script type=\"text/javascript\">\n",
              "  (function(spec, embedOpt){\n",
              "    let outputDiv = document.currentScript.previousElementSibling;\n",
              "    if (outputDiv.id !== \"altair-viz-c0fefc9e3c544039a170a37da3819e3d\") {\n",
              "      outputDiv = document.getElementById(\"altair-viz-c0fefc9e3c544039a170a37da3819e3d\");\n",
              "    }\n",
              "    const paths = {\n",
              "      \"vega\": \"https://cdn.jsdelivr.net/npm//vega@5?noext\",\n",
              "      \"vega-lib\": \"https://cdn.jsdelivr.net/npm//vega-lib?noext\",\n",
              "      \"vega-lite\": \"https://cdn.jsdelivr.net/npm//vega-lite@4.8.1?noext\",\n",
              "      \"vega-embed\": \"https://cdn.jsdelivr.net/npm//vega-embed@6?noext\",\n",
              "    };\n",
              "\n",
              "    function loadScript(lib) {\n",
              "      return new Promise(function(resolve, reject) {\n",
              "        var s = document.createElement('script');\n",
              "        s.src = paths[lib];\n",
              "        s.async = true;\n",
              "        s.onload = () => resolve(paths[lib]);\n",
              "        s.onerror = () => reject(`Error loading script: ${paths[lib]}`);\n",
              "        document.getElementsByTagName(\"head\")[0].appendChild(s);\n",
              "      });\n",
              "    }\n",
              "\n",
              "    function showError(err) {\n",
              "      outputDiv.innerHTML = `<div class=\"error\" style=\"color:red;\">${err}</div>`;\n",
              "      throw err;\n",
              "    }\n",
              "\n",
              "    function displayChart(vegaEmbed) {\n",
              "      vegaEmbed(outputDiv, spec, embedOpt)\n",
              "        .catch(err => showError(`Javascript Error: ${err.message}<br>This usually means there's a typo in your chart specification. See the javascript console for the full traceback.`));\n",
              "    }\n",
              "\n",
              "    if(typeof define === \"function\" && define.amd) {\n",
              "      requirejs.config({paths});\n",
              "      require([\"vega-embed\"], displayChart, err => showError(`Error loading script: ${err.message}`));\n",
              "    } else if (typeof vegaEmbed === \"function\") {\n",
              "      displayChart(vegaEmbed);\n",
              "    } else {\n",
              "      loadScript(\"vega\")\n",
              "        .then(() => loadScript(\"vega-lite\"))\n",
              "        .then(() => loadScript(\"vega-embed\"))\n",
              "        .catch(showError)\n",
              "        .then(() => displayChart(vegaEmbed));\n",
              "    }\n",
              "  })({\"config\": {\"view\": {\"continuousWidth\": 400, \"continuousHeight\": 300}}, \"data\": {\"url\": \"https://cdn.jsdelivr.net/npm/vega-datasets@v1.29.0/data/unemployment-across-industries.json\"}, \"mark\": \"area\", \"encoding\": {\"color\": {\"type\": \"nominal\", \"field\": \"series\", \"scale\": {\"scheme\": \"category20b\"}}, \"x\": {\"type\": \"temporal\", \"axis\": {\"domain\": false, \"format\": \"%Y\", \"tickSize\": 0}, \"field\": \"date\", \"timeUnit\": \"yearmonth\"}, \"y\": {\"type\": \"quantitative\", \"aggregate\": \"sum\", \"axis\": null, \"field\": \"count\", \"stack\": \"center\"}}, \"selection\": {\"selector001\": {\"type\": \"interval\", \"bind\": \"scales\", \"encodings\": [\"x\", \"y\"]}}, \"$schema\": \"https://vega.github.io/schema/vega-lite/v4.8.1.json\"}, {\"mode\": \"vega-lite\"});\n",
              "</script>"
            ]
          },
          "metadata": {
            "tags": []
          },
          "execution_count": 17
        }
      ]
    }
  ]
}