{
 "cells": [
  {
   "cell_type": "code",
   "execution_count": null,
   "metadata": {},
   "outputs": [],
   "source": []
  },
  {
   "cell_type": "markdown",
   "metadata": {},
   "source": [
    "Preprocessing list\n",
    "\n",
    "EndInvFinal:\n",
    "- `size`: \n",
    "    - remove string, uniform the units (there are ml and Liter)\n",
    "    - rows contains ml --> remove 'ml' strings \n",
    "    - rows contains Liter or L--> divide by 1000\n",
    "    - 50mL 3 Pk --> "
   ]
  }
 ],
 "metadata": {
  "language_info": {
   "name": "python"
  },
  "orig_nbformat": 4
 },
 "nbformat": 4,
 "nbformat_minor": 2
}
