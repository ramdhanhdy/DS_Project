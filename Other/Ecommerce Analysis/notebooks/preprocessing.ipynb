{
 "cells": [
  {
   "cell_type": "code",
   "execution_count": 8,
   "metadata": {},
   "outputs": [],
   "source": [
    "import sys\n",
    "sys.path.append(\"../src\") \n",
    "\n",
    "import pandas as pd\n",
    "import numpy as np\n",
    "\n",
    "from my_utils import dataframe_info"
   ]
  },
  {
   "cell_type": "code",
   "execution_count": 4,
   "metadata": {},
   "outputs": [],
   "source": [
    "df_raw = pd.read_excel(r'C:\\Users\\ramdh\\Documents\\GitHub\\DS_Project\\Ecommerce Analysis\\data\\raw\\Online Retail Data Set.xlsx', \n",
    "                       sheet_name='Online Retail')"
   ]
  },
  {
   "cell_type": "code",
   "execution_count": 9,
   "metadata": {},
   "outputs": [
    {
     "data": {
      "text/html": [
       "<div>\n",
       "<style scoped>\n",
       "    .dataframe tbody tr th:only-of-type {\n",
       "        vertical-align: middle;\n",
       "    }\n",
       "\n",
       "    .dataframe tbody tr th {\n",
       "        vertical-align: top;\n",
       "    }\n",
       "\n",
       "    .dataframe thead th {\n",
       "        text-align: right;\n",
       "    }\n",
       "</style>\n",
       "<table border=\"1\" class=\"dataframe\">\n",
       "  <thead>\n",
       "    <tr style=\"text-align: right;\">\n",
       "      <th></th>\n",
       "      <th>Column</th>\n",
       "      <th>Data Type</th>\n",
       "      <th>Unique Count</th>\n",
       "      <th>Unique Sample</th>\n",
       "      <th>Missing Values</th>\n",
       "      <th>Missing Percentage</th>\n",
       "    </tr>\n",
       "  </thead>\n",
       "  <tbody>\n",
       "    <tr>\n",
       "      <th>0</th>\n",
       "      <td>InvoiceNo</td>\n",
       "      <td>object</td>\n",
       "      <td>25900</td>\n",
       "      <td>[536365, 536366, 536367, 536368, 536369]</td>\n",
       "      <td>0</td>\n",
       "      <td>0.0000</td>\n",
       "    </tr>\n",
       "    <tr>\n",
       "      <th>1</th>\n",
       "      <td>StockCode</td>\n",
       "      <td>object</td>\n",
       "      <td>4070</td>\n",
       "      <td>[85123A, 71053, 84406B, 84029G, 84029E]</td>\n",
       "      <td>0</td>\n",
       "      <td>0.0000</td>\n",
       "    </tr>\n",
       "    <tr>\n",
       "      <th>2</th>\n",
       "      <td>Description</td>\n",
       "      <td>object</td>\n",
       "      <td>4223</td>\n",
       "      <td>[WHITE HANGING HEART T-LIGHT HOLDER, WHITE MET...</td>\n",
       "      <td>1454</td>\n",
       "      <td>0.2683</td>\n",
       "    </tr>\n",
       "    <tr>\n",
       "      <th>3</th>\n",
       "      <td>Quantity</td>\n",
       "      <td>int64</td>\n",
       "      <td>722</td>\n",
       "      <td>[6, 8, 2, 32, 3]</td>\n",
       "      <td>0</td>\n",
       "      <td>0.0000</td>\n",
       "    </tr>\n",
       "    <tr>\n",
       "      <th>4</th>\n",
       "      <td>InvoiceDate</td>\n",
       "      <td>datetime64[ns]</td>\n",
       "      <td>23260</td>\n",
       "      <td>[2010-12-01T08:26:00.000000000, 2010-12-01T08:...</td>\n",
       "      <td>0</td>\n",
       "      <td>0.0000</td>\n",
       "    </tr>\n",
       "    <tr>\n",
       "      <th>5</th>\n",
       "      <td>UnitPrice</td>\n",
       "      <td>float64</td>\n",
       "      <td>1630</td>\n",
       "      <td>[2.55, 3.39, 2.75, 7.65, 4.25]</td>\n",
       "      <td>0</td>\n",
       "      <td>0.0000</td>\n",
       "    </tr>\n",
       "    <tr>\n",
       "      <th>6</th>\n",
       "      <td>CustomerID</td>\n",
       "      <td>float64</td>\n",
       "      <td>4372</td>\n",
       "      <td>[17850.0, 13047.0, 12583.0, 13748.0, 15100.0]</td>\n",
       "      <td>135080</td>\n",
       "      <td>24.9267</td>\n",
       "    </tr>\n",
       "    <tr>\n",
       "      <th>7</th>\n",
       "      <td>Country</td>\n",
       "      <td>object</td>\n",
       "      <td>38</td>\n",
       "      <td>[United Kingdom, France, Australia, Netherland...</td>\n",
       "      <td>0</td>\n",
       "      <td>0.0000</td>\n",
       "    </tr>\n",
       "  </tbody>\n",
       "</table>\n",
       "</div>"
      ],
      "text/plain": [
       "        Column       Data Type Unique Count  \\\n",
       "0    InvoiceNo          object        25900   \n",
       "1    StockCode          object         4070   \n",
       "2  Description          object         4223   \n",
       "3     Quantity           int64          722   \n",
       "4  InvoiceDate  datetime64[ns]        23260   \n",
       "5    UnitPrice         float64         1630   \n",
       "6   CustomerID         float64         4372   \n",
       "7      Country          object           38   \n",
       "\n",
       "                                       Unique Sample Missing Values  \\\n",
       "0           [536365, 536366, 536367, 536368, 536369]              0   \n",
       "1            [85123A, 71053, 84406B, 84029G, 84029E]              0   \n",
       "2  [WHITE HANGING HEART T-LIGHT HOLDER, WHITE MET...           1454   \n",
       "3                                   [6, 8, 2, 32, 3]              0   \n",
       "4  [2010-12-01T08:26:00.000000000, 2010-12-01T08:...              0   \n",
       "5                     [2.55, 3.39, 2.75, 7.65, 4.25]              0   \n",
       "6      [17850.0, 13047.0, 12583.0, 13748.0, 15100.0]         135080   \n",
       "7  [United Kingdom, France, Australia, Netherland...              0   \n",
       "\n",
       "   Missing Percentage  \n",
       "0              0.0000  \n",
       "1              0.0000  \n",
       "2              0.2683  \n",
       "3              0.0000  \n",
       "4              0.0000  \n",
       "5              0.0000  \n",
       "6             24.9267  \n",
       "7              0.0000  "
      ]
     },
     "execution_count": 9,
     "metadata": {},
     "output_type": "execute_result"
    }
   ],
   "source": [
    "dataframe_info(df_raw)"
   ]
  },
  {
   "cell_type": "code",
   "execution_count": 10,
   "metadata": {},
   "outputs": [
    {
     "data": {
      "text/plain": [
       "(541909, 8)"
      ]
     },
     "execution_count": 10,
     "metadata": {},
     "output_type": "execute_result"
    }
   ],
   "source": [
    "df_raw.shape"
   ]
  }
 ],
 "metadata": {
  "kernelspec": {
   "display_name": "ecommerce_env",
   "language": "python",
   "name": "python3"
  },
  "language_info": {
   "codemirror_mode": {
    "name": "ipython",
    "version": 3
   },
   "file_extension": ".py",
   "mimetype": "text/x-python",
   "name": "python",
   "nbconvert_exporter": "python",
   "pygments_lexer": "ipython3",
   "version": "3.11.4"
  },
  "orig_nbformat": 4
 },
 "nbformat": 4,
 "nbformat_minor": 2
}
